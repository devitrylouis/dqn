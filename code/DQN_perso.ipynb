{
 "cells": [
  {
   "cell_type": "markdown",
   "metadata": {},
   "source": [
    "**You may need to install [OpenCV](https://pypi.python.org/pypi/opencv-python) and [scikit-video](http://www.scikit-video.org/stable/).**"
   ]
  },
  {
   "cell_type": "code",
   "execution_count": 2,
   "metadata": {
    "collapsed": true
   },
   "outputs": [],
   "source": [
    "import keras\n",
    "import numpy as np\n",
    "import io\n",
    "import base64\n",
    "from IPython.display import HTML\n",
    "import skvideo.io\n",
    "import cv2\n",
    "import json\n",
    "\n",
    "from keras.models import Sequential,model_from_json\n",
    "from keras.layers import Flatten\n",
    "from keras.layers.core import Dense\n",
    "from keras.optimizers import sgd\n",
    "from keras.layers import Conv2D, MaxPooling2D, Activation, AveragePooling2D,Reshape,BatchNormalization"
   ]
  },
  {
   "cell_type": "markdown",
   "metadata": {},
   "source": [
    "# MiniProject #3: Deep Reinforcement Learning"
   ]
  },
  {
   "cell_type": "markdown",
   "metadata": {},
   "source": [
    "__Notations__: $E_p$ is the expectation under probability $p$. Please justify each of your answer and widely comment your code."
   ]
  },
  {
   "cell_type": "markdown",
   "metadata": {},
   "source": [
    "# Context"
   ]
  },
  {
   "cell_type": "markdown",
   "metadata": {},
   "source": [
    "In a reinforcement learning algorithm, we modelize each step $t$ as an action $a_t$ obtained from a state $s_t$, i.e. $\\{(a_{t},s_{t})_{t\\leq T}\\}$ having the Markov property. We consider a discount factor $\\gamma \\in [0,1]$ that ensures convergence. The goal is to find among all the policies $\\pi$, one that maximizes the expected reward:\n",
    "\n",
    "\\begin{equation*}\n",
    "R(\\pi)=\\sum_{t\\leq T}E_{p^{\\pi}}[\\gamma^t r(s_{t},a_{t})] \\> ,\n",
    "\\end{equation*}\n",
    "\n",
    "where: \n",
    "\\begin{equation*}p^{\\pi}(a_{0},a_{1},s_{1},...,a_{T},s_{T})=p(a_{0})\\prod_{t=1}^{T}\\pi(a_{t}|s_{t})p(s_{t+1}|s_{t},a_{t}) \\> .\n",
    "\\end{equation*}\n",
    "\n",
    "We note the $Q$-function:\n",
    "\n",
    "\\begin{equation*}Q^\\pi(s,a)=E_{p^{\\pi}}[\\sum_{t\\leq T}\\gamma^{t}r(s_{t},a_{t})|s_{0}=s,a_{0}=a] \\> .\n",
    "\\end{equation*}\n",
    "\n",
    "Thus, the optimal Q function is:\n",
    "\\begin{equation*}\n",
    "Q^*(s,a)=\\max_{\\pi}Q^\\pi(s,a) \\> .\n",
    "\\end{equation*}\n",
    "\n",
    "In this project, we will apply the deep reinforcement learning techniques to a simple game: an agent will have to learn from scratch a policy that will permit it maximizing a reward."
   ]
  },
  {
   "cell_type": "markdown",
   "metadata": {},
   "source": [
    "## The environment, the agent and the game"
   ]
  },
  {
   "cell_type": "markdown",
   "metadata": {},
   "source": [
    "### The environment"
   ]
  },
  {
   "cell_type": "markdown",
   "metadata": {},
   "source": [
    "```Environment``` is an abstract class that represents the states, rewards, and actions to obtain the new state."
   ]
  },
  {
   "cell_type": "code",
   "execution_count": 3,
   "metadata": {
    "collapsed": true
   },
   "outputs": [],
   "source": [
    "class Environment(object):\n",
    "    def __init__(self):\n",
    "        pass\n",
    "\n",
    "    def act(self, act):\n",
    "        \"\"\"\n",
    "        One can act on the environment and obtain its reaction:\n",
    "        - the new state\n",
    "        - the reward of the new state\n",
    "        - should we continue the game?\n",
    "\n",
    "        :return: state, reward, game_over\n",
    "        \"\"\"\n",
    "        pass\n",
    "\n",
    "\n",
    "    def reset(self):\n",
    "        \"\"\"\n",
    "        Reinitialize the environment to a random state and returns\n",
    "        the original state\n",
    "\n",
    "        :return: state\n",
    "        \"\"\"\n",
    "        pass\n",
    "    \n",
    "    def draw(self):\n",
    "        \"\"\"\n",
    "        Visualize in the console or graphically the current state\n",
    "        \"\"\"\n",
    "        pass"
   ]
  },
  {
   "cell_type": "markdown",
   "metadata": {},
   "source": [
    "The method ```act``` allows to act on the environment at a given state $s_t$ (stored internally), via action $a_t$. The method will return the new state $s_{t+1}$, the reward $r(s_{t},a_{t})$ and determines if $t\\leq T$ (*game_over*).\n",
    "\n",
    "The method ```reset``` simply reinitializes the environment to a random state $s_0$.\n",
    "\n",
    "The method ```draw``` displays the current state $s_t$ (this is useful to check the behavior of the Agent).\n",
    "\n",
    "We modelize $s_t$ as a tensor, while $a_t$ is an integer."
   ]
  },
  {
   "cell_type": "markdown",
   "metadata": {},
   "source": [
    "### The Agent"
   ]
  },
  {
   "cell_type": "markdown",
   "metadata": {},
   "source": [
    "The goal of the ```Agent``` is to interact with the ```Environment``` by proposing actions $a_t$ obtained from a given state $s_t$ to attempt to maximize its __reward__ $r(s_t,a_t)$. We propose the following abstract class:"
   ]
  },
  {
   "cell_type": "code",
   "execution_count": 4,
   "metadata": {
    "collapsed": true
   },
   "outputs": [],
   "source": [
    "class Agent(object):\n",
    "    def __init__(self, epsilon=0.1, n_action=4):\n",
    "        self.epsilon = epsilon\n",
    "        self.n_action = n_action\n",
    "    \n",
    "    def set_epsilon(self,e):\n",
    "        self.epsilon = e\n",
    "\n",
    "    def act(self,s,train=True):\n",
    "        \"\"\" This function should return the next action to do:\n",
    "        an integer between 0 and 4 (not included) with a random exploration of epsilon\"\"\"\n",
    "        if train:\n",
    "            if np.random.rand() <= self.epsilon:\n",
    "                a = np.random.randint(0, self.n_action, size=1)[0]\n",
    "            else:\n",
    "                a = self.learned_act(s)\n",
    "        else: # in some cases, this can improve the performance.. remove it if poor performances\n",
    "            a = self.learned_act(s)\n",
    "\n",
    "        return a\n",
    "\n",
    "    def learned_act(self,s):\n",
    "        \"\"\" Act via the policy of the agent, from a given state s\n",
    "        it proposes an action a\"\"\"\n",
    "        pass\n",
    "\n",
    "    def reinforce(self, s, n_s, a, r, game_over_):\n",
    "        \"\"\" This function is the core of the learning algorithm. \n",
    "        It takes as an input the current state s_, the next state n_s_\n",
    "        the action a_ used to move from s_ to n_s_ and the reward r_.\n",
    "        \n",
    "        Its goal is to learn a policy.\n",
    "        \"\"\"\n",
    "        pass\n",
    "\n",
    "    def save(self):\n",
    "        \"\"\" This function returns basic stats if applicable: the\n",
    "        loss and/or the model\"\"\"\n",
    "        pass\n",
    "\n",
    "    def load(self):\n",
    "        \"\"\" This function allows to restore a model\"\"\"\n",
    "        pass"
   ]
  },
  {
   "cell_type": "markdown",
   "metadata": {},
   "source": [
    "***\n",
    "__Question 1__:\n",
    "Explain the function act. Why is ```epsilon``` essential?"
   ]
  },
  {
   "cell_type": "markdown",
   "metadata": {},
   "source": [
    "The purpose of the `act` method is to make a decision based on a state `s`. To this end, he follows a policy (expressed here by `learned_act`) that leaves room for the agent to \"explore\". Specifically, if the parameter `train` is set to `True`, then the agent has a probability $\\epsilon$ of making a random move. To picture it, we can think of $\\epsilon$ as getting the Agent out of its comfort zone. This parameter is crucial and needs careful tuning: \n",
    "- If set too high, he will get stuck and stop learning\n",
    "- If set too low, the agent will systematically behave randomly"
   ]
  },
  {
   "cell_type": "markdown",
   "metadata": {},
   "source": [
    "***\n",
    "### The Game"
   ]
  },
  {
   "cell_type": "markdown",
   "metadata": {},
   "source": [
    "The ```Agent``` and the ```Environment``` work in an interlaced way as in the following (take some time to understand this code as it is the core of the project)\n",
    "\n",
    "```python\n",
    "\n",
    "epoch = 300\n",
    "env = Environment()\n",
    "agent = Agent()\n",
    "\n",
    "\n",
    "# Number of won games\n",
    "score = 0\n",
    "loss = 0\n",
    "\n",
    "\n",
    "for e in range(epoch):\n",
    "    # At each epoch, we restart to a fresh game and get the initial state\n",
    "    state = env.reset()\n",
    "    # This assumes that the games will end\n",
    "    game_over = False\n",
    "\n",
    "    win = 0\n",
    "    lose = 0\n",
    "    \n",
    "    while not game_over:\n",
    "        # The agent performs an action\n",
    "        action = agent.act(state)\n",
    "\n",
    "        # Apply an action to the environment, get the next state, the reward\n",
    "        # and if the games end\n",
    "        prev_state = state\n",
    "        state, reward, game_over = env.act(action)\n",
    "\n",
    "        # Update the counters\n",
    "        if reward > 0:\n",
    "            win = win + reward\n",
    "        if reward < 0:\n",
    "            lose = lose -reward\n",
    "\n",
    "        # Apply the reinforcement strategy\n",
    "        loss = agent.reinforce(prev_state, state,  action, reward, game_over)\n",
    "\n",
    "    # Save as a mp4\n",
    "    if e % 10 == 0:\n",
    "        env.draw(e)\n",
    "\n",
    "    # Update stats\n",
    "    score += win-lose\n",
    "\n",
    "    print(\"Epoch {:03d}/{:03d} | Loss {:.4f} | Win/lose count {}/{} ({})\"\n",
    "          .format(e, epoch, loss, win, lose, win-lose))\n",
    "    agent.save()\n",
    "```"
   ]
  },
  {
   "cell_type": "markdown",
   "metadata": {},
   "source": [
    "# The game, *eat cheese*"
   ]
  },
  {
   "cell_type": "markdown",
   "metadata": {},
   "source": [
    "A rat runs on an island and tries to eat as much as possible. The island is subdivided into $N\\times N$ cells, in which there are cheese (+0.5) and poisonous cells (-1). The rat has a visibility of 2 cells (thus it can see $5^2$ cells). The rat is given a time $T$ to accumulate as much food as possible. It can perform 4 actions: going up, down, left, right. \n",
    "\n",
    "The goal is to code an agent to solve this task that will learn by trial and error. We propose the following environment:"
   ]
  },
  {
   "cell_type": "code",
   "execution_count": 5,
   "metadata": {
    "collapsed": true
   },
   "outputs": [],
   "source": [
    "class Environment(object):\n",
    "\n",
    "    def __init__(self, grid_size = 10, max_time = 500, temperature = 0.1):\n",
    "\n",
    "        # Hyperparameters\n",
    "        self.grid_size = grid_size + 4\n",
    "        self.max_time = max_time\n",
    "        self.temperature = temperature\n",
    "\n",
    "        # Key trackers of the Environment\n",
    "        self.board = np.zeros((grid_size,grid_size))\n",
    "        self.position = np.zeros((grid_size,grid_size))\n",
    "\n",
    "        # Coordinate of the agent\n",
    "        self.x = 0\n",
    "        self.y = 1\n",
    "\n",
    "        # Time\n",
    "        self.time = 0\n",
    "\n",
    "        # Dimensioning\n",
    "        self.scale = 16\n",
    "        self.to_draw = np.zeros((max_time + 2, grid_size * self.scale, grid_size * self.scale, 3))\n",
    "\n",
    "    def draw(self,e):\n",
    "        skvideo.io.vwrite(str(e) + '.mp4', self.to_draw)\n",
    "\n",
    "    def get_frame(self,t):\n",
    "        b = np.zeros((self.grid_size, self.grid_size, 3))+128\n",
    "        b[self.board > 0, 0] = 256\n",
    "        b[self.board < 0, 2] = 256\n",
    "        b[self.x, self.y, :] = 256\n",
    "        b[-2:, :, :]=0\n",
    "        b[:, -2:, :]=0\n",
    "        b[:2, :, :]=0\n",
    "        b[:, :2, :]=0\n",
    "\n",
    "        b =  cv2.resize(b, None, fx=self.scale, fy=self.scale, interpolation=cv2.INTER_NEAREST)\n",
    "\n",
    "        self.to_draw[t,:,:,:]=b\n",
    "\n",
    "    def act(self, action):\n",
    "        \"\"\"This function returns the new state, reward and decides if the\n",
    "        game ends.\"\"\"\n",
    "\n",
    "        self.get_frame(int(self.time))\n",
    "\n",
    "        self.position = np.zeros((self.grid_size, self.grid_size))\n",
    "\n",
    "        self.position[0:2,:]= -1\n",
    "        self.position[:,0:2] = -1\n",
    "        self.position[-2:, :] = -1\n",
    "        self.position[-2:, :] = -1\n",
    "\n",
    "        self.position[self.x, self.y] = 1\n",
    "        if action == 0:\n",
    "            if self.x == self.grid_size-3:\n",
    "                self.x = self.x-1\n",
    "            else:\n",
    "                self.x = self.x + 1\n",
    "        elif action == 1:\n",
    "            if self.x == 2:\n",
    "                self.x = self.x+1\n",
    "            else:\n",
    "                self.x = self.x-1\n",
    "        elif action == 2:\n",
    "            if self.y == self.grid_size - 3:\n",
    "                self.y = self.y - 1\n",
    "            else:\n",
    "                self.y = self.y + 1\n",
    "        elif action == 3:\n",
    "            if self.y == 2:\n",
    "                self.y = self.y + 1\n",
    "            else:\n",
    "                self.y = self.y - 1\n",
    "        else:\n",
    "            RuntimeError('Error: action not recognized')\n",
    "\n",
    "        self.time = self.time + 1\n",
    "\n",
    "        reward = self.board[self.x, self.y]\n",
    "\n",
    "        self.board[self.x, self.y] = 0\n",
    "        game_over = self.time > self.max_time\n",
    "        state = np.concatenate((self.board.reshape(self.grid_size, self.grid_size, 1),\n",
    "                                self.position.reshape(self.grid_size, self.grid_size, 1)),\n",
    "                                axis=2)\n",
    "        state = state[self.x-2:self.x+3,self.y-2:self.y+3,:]\n",
    "\n",
    "        return state, reward, game_over\n",
    "\n",
    "    def reset(self):\n",
    "        \"\"\"This function resets the game and returns the initial state\"\"\"\n",
    "\n",
    "        self.x = np.random.randint(3, self.grid_size-3, size=1)[0]\n",
    "        self.y = np.random.randint(3, self.grid_size-3, size=1)[0]\n",
    "\n",
    "\n",
    "        bonus = 0.5*np.random.binomial(1,self.temperature,size=self.grid_size**2)\n",
    "        bonus = bonus.reshape(self.grid_size,self.grid_size)\n",
    "\n",
    "        malus = -1.0*np.random.binomial(1,self.temperature,size=self.grid_size**2)\n",
    "        malus = malus.reshape(self.grid_size, self.grid_size)\n",
    "\n",
    "        self.to_draw = np.zeros((self.max_time+2, self.grid_size*self.scale, self.grid_size*self.scale, 3))\n",
    "\n",
    "\n",
    "        malus[bonus>0]=0\n",
    "\n",
    "        self.board = bonus + malus\n",
    "\n",
    "        self.position = np.zeros((self.grid_size, self.grid_size))\n",
    "        self.position[0:2,:]= -1\n",
    "        self.position[:,0:2] = -1\n",
    "        self.position[-2:, :] = -1\n",
    "        self.position[-2:, :] = -1\n",
    "        self.board[self.x,self.y] = 0\n",
    "        self.time = 0\n",
    "\n",
    "        state = np.concatenate((\n",
    "                               self.board.reshape(self.grid_size, self.grid_size,1),\n",
    "                        self.position.reshape(self.grid_size, self.grid_size,1)),axis=2)\n",
    "\n",
    "        state = state[self.x - 2:self.x + 3, self.y - 2:self.y + 3, :]\n",
    "        return state\n"
   ]
  },
  {
   "cell_type": "markdown",
   "metadata": {},
   "source": [
    "The following elements are important because they correspond to the hyper parameters for this project:"
   ]
  },
  {
   "cell_type": "code",
   "execution_count": 10,
   "metadata": {},
   "outputs": [],
   "source": [
    "# parameters\n",
    "size = 13\n",
    "T = 500\n",
    "temperature = 0.3\n",
    "epochs_train = 20 # set small when debugging\n",
    "epochs_test = 5 # set small when debugging\n",
    "movie_ = True\n",
    "\n",
    "# display videos\n",
    "def display_videos(name):\n",
    "    video = io.open(name, 'r+b').read()\n",
    "    encoded = base64.b64encode(video)\n",
    "    return '''<video alt=\"test\" controls>\n",
    "                <source src=\"data:video/mp4;base64,{0}\" type=\"video/mp4\" />\n",
    "             </video>'''.format(encoded.decode('ascii'))"
   ]
  },
  {
   "cell_type": "markdown",
   "metadata": {},
   "source": [
    "__Question 2__ Explain the use of the arrays ```position``` and ```board```."
   ]
  },
  {
   "cell_type": "markdown",
   "metadata": {},
   "source": [
    "- `position` is an array (padded by -1 to indicate illegal moves) which tracks the `Agent` position (with a $1$ otherwise $0$). It looks something like this:\n",
    "\n",
    "|  P |  O |  S |  I |  T |  I |  O | N  |\n",
    "|:--:|:--:|:--:|:--:|:--:|:--:|:--:|:--:|\n",
    "| -1 | -1 | -1 | -1 | -1 | -1 | -1 | -1 |\n",
    "| -1 | -1 | -1 | -1 | -1 | -1 | -1 | -1 |\n",
    "| -1 | -1 |  0 |  0 |  0 |  0 | -1 | -1 |\n",
    "| -1 | -1 |  0 |  1 |  0 |  0 | -1 | -1 |\n",
    "| -1 | -1 |  0 |  0 |  0 |  0 | -1 | -1 |\n",
    "| -1 | -1 |  0 |  0 |  0 |  0 | -1 | -1 |\n",
    "| -1 | -1 | -1 | -1 | -1 | -1 | -1 | -1 |\n",
    "| -1 | -1 | -1 | -1 | -1 | -1 | -1 | -1 |\n",
    "\n",
    "\n",
    "- `board` accounts for the `Environment` as it contains the rewards (positives AND negatives) in its cells. Whenever the `Agent` reach a cell, this cell becomes `0` in `board`.\n",
    "\n",
    "|  - |  B |  O  |  A |  R  |  D |  ! |  - |\n",
    "|:--:|:--:|:---:|:--:|:---:|:--:|:--:|:--:|\n",
    "| -1 | -1 |  -1 | -1 |  -1 | -1 | -1 | -1 |\n",
    "| -1 | -1 |  -1 | -1 |  -1 | -1 | -1 | -1 |\n",
    "| -1 | -1 |  0  |  0 |  0  |  0 | -1 | -1 |\n",
    "| -1 | -1 |  0  |  0 |  -1 |  0 | -1 | -1 |\n",
    "| -1 | -1 | 0.5 |  0 | 0.5 |  0 | -1 | -1 |\n",
    "| -1 | -1 |  0  | -1 |  0  |  0 | -1 | -1 |\n",
    "| -1 | -1 |  -1 | -1 | -1  | -1 | -1 | -1 |\n",
    "| -1 | -1 |  -1 | -1 |  -1 | -1 | -1 | -1 |"
   ]
  },
  {
   "cell_type": "markdown",
   "metadata": {},
   "source": [
    "## Random Agent"
   ]
  },
  {
   "cell_type": "markdown",
   "metadata": {},
   "source": [
    "***\n",
    "__Question 3__ Implement a random Agent (only ```learned_act``` needs to be implemented):"
   ]
  },
  {
   "cell_type": "code",
   "execution_count": 11,
   "metadata": {
    "collapsed": true
   },
   "outputs": [],
   "source": [
    "class RandomAgent(Agent):\n",
    "    def __init__(self):\n",
    "        super(RandomAgent, self).__init__()\n",
    "        pass\n",
    "\n",
    "    def learned_act(self, s):\n",
    "        return(np.random.randint(4))"
   ]
  },
  {
   "cell_type": "markdown",
   "metadata": {},
   "source": [
    "***\n",
    "***\n",
    "__Question 4__ Visualize the game moves. You need to fill in the following function for the evaluation:"
   ]
  },
  {
   "cell_type": "code",
   "execution_count": 12,
   "metadata": {
    "collapsed": true
   },
   "outputs": [],
   "source": [
    "def test(agent, env, epochs, prefix=''):\n",
    "    # Number of won games\n",
    "    score = 0\n",
    "        \n",
    "    for e in range(epochs):\n",
    "        \n",
    "        # At each epoch, we restart to a fresh game and get the initial state\n",
    "        state = env.reset()\n",
    "        \n",
    "        # This assumes that the games will end\n",
    "        win, lose = 0, 0\n",
    "        game_over = False\n",
    "\n",
    "        while not game_over:\n",
    "            # The agent performs an action\n",
    "            action = agent.act(state)\n",
    "\n",
    "            # Apply an action to the environment, get the next state, the reward\n",
    "            # and if the games end\n",
    "            prev_state = state\n",
    "            state, reward, game_over = env.act(action)\n",
    "\n",
    "            # Update the counters\n",
    "            if reward > 0:\n",
    "                win += reward\n",
    "            if reward < 0:\n",
    "                lose -= reward\n",
    "\n",
    "            # Apply the reinforcement strategy\n",
    "            loss = agent.reinforce(prev_state, state,  action, reward, game_over)\n",
    "                \n",
    "        # Save as a mp4\n",
    "        env.draw(prefix+str(e))\n",
    "\n",
    "        # Update stats\n",
    "        score = score + win-lose\n",
    "\n",
    "        print(\"Win/lose count {}/{}. Average score ({})\"\n",
    "              .format(win, lose, score/(1+e)))\n",
    "    print('Final score: '+str(score/epochs))"
   ]
  },
  {
   "cell_type": "code",
   "execution_count": 13,
   "metadata": {},
   "outputs": [
    {
     "name": "stdout",
     "output_type": "stream",
     "text": [
      "Win/lose count 14.0/17.0. Average score (-3.0)\n",
      "Win/lose count 18.0/17.0. Average score (-1.0)\n",
      "Win/lose count 14.5/17.0. Average score (-1.5)\n",
      "Win/lose count 13.5/20.0. Average score (-2.75)\n",
      "Win/lose count 20.0/30.0. Average score (-4.2)\n",
      "Final score: -4.2\n"
     ]
    },
    {
     "data": {
      "text/html": [
       "<video alt=\"test\" controls>\n",
       "                <source src=\"data:video/mp4;base64,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\" type=\"video/mp4\" />\n",
       "             </video>"
      ],
      "text/plain": [
       "<IPython.core.display.HTML object>"
      ]
     },
     "execution_count": 13,
     "metadata": {},
     "output_type": "execute_result"
    }
   ],
   "source": [
    "# Initialize the game\n",
    "env = Environment(grid_size=size, max_time=T,temperature=temperature)\n",
    "\n",
    "# Initialize the agent!\n",
    "agent = RandomAgent()\n",
    "test(agent,env,epochs_test,prefix='random')"
   ]
  },
  {
   "cell_type": "code",
   "execution_count": null,
   "metadata": {},
   "outputs": [],
   "source": [
    "if movie_: HTML(display_videos('random2.mp4'))"
   ]
  },
  {
   "cell_type": "markdown",
   "metadata": {},
   "source": [
    "***\n",
    "## DQN"
   ]
  },
  {
   "cell_type": "markdown",
   "metadata": {},
   "source": [
    "Let us assume here that $T=\\infty$.\n",
    "\n",
    "***\n",
    "__Question 5__ Let $\\pi$ be a policy, show that:\n",
    "\n",
    "\\begin{equation*}\n",
    "Q^{\\pi}(s,a)=E_{(s',a')\\sim p(.|s,a)}[r(s,a)+\\gamma Q^{\\pi}(s',a')]\n",
    "\\end{equation*}\n",
    "\n",
    "Then, show that for the optimal policy $\\pi^*$ (we assume its existence), the following holds: \n",
    "\n",
    "\\begin{equation*}\n",
    "Q^{*}(s,a)=E_{s'\\sim \\pi^*(.|s,a)}[r(s,a)+\\gamma\\max_{a'}Q^{*}(s',a')].\n",
    "\\end{equation*}\n",
    "Finally, deduce that a plausible objective is:\n",
    "\n",
    "\\begin{equation*}\n",
    "\\mathcal{L}(\\theta)=E_{s' \\sim \\pi^*(.|s,a)}\\Vert r+\\gamma\\max\\max_{a'}Q(s',a',\\theta)-Q(s,a,\\theta)\\Vert^{2}.\n",
    "\\end{equation*}\n",
    "\n",
    "\n"
   ]
  },
  {
   "cell_type": "markdown",
   "metadata": {},
   "source": [
    "By definition, the $Q$ function is $\\mathcal{Q}^{\\pi}(s,a)=E_{p^{\\pi}}[\\sum_{t=0}^{\\infty}\\gamma^{t}r(s_{t},a_{t})|s_{0}=s, a_{0}=a]$\n",
    "\n",
    "Therefore, by dropping the first term of the sum and using the linearity of the expectation:\n",
    "$$\n",
    "\\begin{align}\n",
    "\\mathcal{Q}^{\\pi}(s,a)&=E_{p^{\\pi}}\\big[r(s_0,a_0)+\\sum_{t=1}^{\\infty}\\gamma^{t}r(s_{t},a_{t})|s_{0}=s,a_{0}=a\\big]\\\\\n",
    "&=E_{p^{\\pi}}[r(s_0,a_0)+\\gamma\\sum_{t=0}^{\\infty}\\gamma^{t}r(s_{t+1},a_{t+1}|s_{0}=s,a_{0}=a)]\\\\\n",
    "&=E_{p^{\\pi}}\\big[r(s_0,a_0)]+\\gamma E_{p^{\\pi}}\\big[\\sum_{t=0}^{\\infty}\\gamma^{t}r(s_{t+1},a_{t+1})|s_{0}=s,a_{0}=a\\big]\\\\\n",
    "\\end{align}\n",
    "$$\n",
    "\n",
    "Then, because of the Markovian property, we obtain:\n",
    "\n",
    "$$\n",
    "\\begin{align}\n",
    "\\mathcal{Q}^{\\pi}(s,a)&=E_{p^{\\pi}}\\big[r(s_{0},a_{0})\\big]+\\gamma E_{(s',a')~p(.|s,a)}\\big[\\sum_{t=0}^{\\infty}\\gamma^{t}r(s_{t+1},a_{t+1}|s_{1}=s',a_{1}=a')\\big]\\\\\n",
    "&=E_{(s',a')\\sim p(.|s,a)}\\big[r(s_{0},a_{0})\\big]+\\gamma E_{(s',a')\\sim p(.|s,a)}\\big[\\sum_{t=0}^{\\infty}\n",
    "\\gamma^{t}r(s_{t},a_{t})|s_{0}=s',a_{0}=a'\\big]\\\\\n",
    "&=E_{(s',a')\\sim p(.|s,a)}\\big[r(s,a)+\\gamma\\mathcal{Q}^{\\pi}(s',a')\\big]\\\\\n",
    "\\end{align}\n",
    "$$\n",
    "\n",
    "If an optimal policy $\\pi^{\\ast}$ exists, the optimal $Q$ function is then defined as:\n",
    "\n",
    "$$\n",
    "\\begin{align}\n",
    "\\mathcal{Q}^{\\ast}(s,a)&=\\text{max}_{\\pi}\\mathcal{Q}^{\\pi}(s,a)\\\\\n",
    "&=\\text{max}_{\\pi}E_{(s',a')\\sim p(.|s,a)}\\big[r(s,a)+\\gamma\\mathcal{Q}^{\\pi}(s',a')\\big]\\\\\n",
    "&=E_{s'\\sim\\pi^{\\ast}(.|s,a)}\\big[r(s,a)+\\gamma\\mathcal{Q}^{\\pi^{\\ast}}(s',a')\\big]\\\\\n",
    "&=E_{s'\\sim\\pi^{\\ast}(.|s,a)}\\big[r(s,a)+\\gamma \\text{max}_{a'}\\mathcal{Q}^{\\ast}(s',a')\\big]\n",
    "\\end{align}\n",
    "$$\n",
    "\n",
    "Combining these equations and because of the deterministic nature of $r$, a plausible loss function to minimize becomes:\n",
    "\n",
    "$$\n",
    "\\begin{align}\n",
    "\\mathcal{L}(\\theta)&=E_{s'\\sim\\pi^{\\ast}(.|s,a)}\\big[(\\mathcal{Q}^{\\ast}(s,a,\\theta)-\\mathcal{Q}(s,a,\\theta))^{2}\\big]\\\\\n",
    "&=E_{s'\\sim\\pi^{\\ast}(.|s,a)}\\big[(r(s,a)+\\gamma \\text{max}_{a'}\\mathcal{Q}^{\\ast}(s',a',\\theta)-\\mathcal{Q}(s,a,\\theta))^{2}\\big]\\\\\n",
    "&=E_{s'\\sim\\pi^{\\ast}(.|s,a)}\\big[||r+\\gamma {max}_{a'}\\mathcal{Q}(s',a',\\theta)-\\mathcal{Q}(s,a,\\theta)||^{2}\\big]\n",
    "\\end{align}\n",
    "$$\n",
    "\n",
    "which is the desired result."
   ]
  },
  {
   "cell_type": "markdown",
   "metadata": {},
   "source": [
    "***\n",
    "The DQN-learning algorithm relies on these derivations to train the parameters $\\theta$ of a Deep Neural Network:\n",
    "\n",
    "1. At the state $s_t$, select the action $a_t$ with best reward using $Q_t$ and store the results;\n",
    "\n",
    "2. Obtain the new state $s_{t+1}$ from the environment $p$;\n",
    "\n",
    "3. Store $(s_t,a_t,s_{t+1})$;\n",
    "\n",
    "4. Obtain $Q_{t+1}$ by minimizing  $\\mathcal{L}$ from a recovered batch from the previously stored results.\n",
    "\n",
    "***\n",
    "__Question 6__ Implement the class ```Memory``` that stores moves (in a replay buffer) via ```remember``` and provides a ```random_access``` to these. Specify a maximum memory size to avoid side effects. You can for example use a ```list()``` and set by default ```max_memory=100```."
   ]
  },
  {
   "cell_type": "code",
   "execution_count": 22,
   "metadata": {
    "collapsed": true
   },
   "outputs": [],
   "source": [
    "class Memory(object):\n",
    "    def __init__(self, max_memory=100):\n",
    "        self.max_memory = max_memory\n",
    "        self.memory = list()\n",
    "\n",
    "    def remember(self, m):\n",
    "        self.memory.append(m)\n",
    "        if len(self.memory) > self.max_memory: self.memory.pop(0)\n",
    "\n",
    "    def random_access(self):\n",
    "        return(self.memory[np.random.randint(len(self.memory))])"
   ]
  },
  {
   "cell_type": "markdown",
   "metadata": {},
   "source": [
    "***\n",
    "The pipeline we will use for training is given below:"
   ]
  },
  {
   "cell_type": "code",
   "execution_count": 23,
   "metadata": {
    "collapsed": true
   },
   "outputs": [],
   "source": [
    "def train(agent,env,epoch,prefix=''):\n",
    "    # Number of won games\n",
    "    score = 0\n",
    "    loss = 0\n",
    "\n",
    "    for e in range(epoch):\n",
    "        # At each epoch, we restart to a fresh game and get the initial state\n",
    "        state = env.reset()\n",
    "        # This assumes that the games will terminate\n",
    "        game_over = False\n",
    "\n",
    "        win = 0\n",
    "        lose = 0\n",
    "\n",
    "        while not game_over:\n",
    "            # The agent follows his policy\n",
    "            action = agent.act(state)\n",
    "\n",
    "            # Environment update\n",
    "            previous_state = state\n",
    "            state, reward, game_over = env.act(action)\n",
    "\n",
    "            # Update key variables\n",
    "            if reward > 0:\n",
    "                win = win + reward\n",
    "            if reward < 0:\n",
    "                lose = lose -reward\n",
    "\n",
    "            # Apply the reinforcement strategy\n",
    "            loss = agent.reinforce(previous_state, state,  action, reward, game_over)\n",
    "\n",
    "        # Save as a mp4\n",
    "        if e % 10 == 0:\n",
    "            env.draw(prefix+str(e))\n",
    "\n",
    "        # Update stats\n",
    "        score += win-lose\n",
    "\n",
    "        print(\"Epoch {:03d}/{:03d} | Loss {:.4f} | Win/lose count {}/{} ({})\"\n",
    "              .format(e, epoch, loss, win, lose, win-lose))\n",
    "        agent.save(name_weights=prefix+'model.h5',name_model=prefix+'model.json')"
   ]
  },
  {
   "cell_type": "markdown",
   "metadata": {},
   "source": [
    "***\n",
    "__Question 7__ Implement the DQN training algorithm using a cascade of fully connected layers. You can use different learning rate, batch size or memory size parameters. In particular, the loss might oscillate while the player will start to win the games. You have to find a good criterium."
   ]
  },
  {
   "cell_type": "code",
   "execution_count": 25,
   "metadata": {
    "collapsed": true
   },
   "outputs": [],
   "source": [
    "class DQN(Agent):\n",
    "    def __init__(self, grid_size,  epsilon = 0.1, memory_size=100, batch_size = 16, n_state=2):\n",
    "        super(DQN, self).__init__(epsilon = epsilon)\n",
    "\n",
    "        # Discount for Q learning\n",
    "        self.discount = 0.9\n",
    "        \n",
    "        self.grid_size = grid_size\n",
    "        \n",
    "        # number of state\n",
    "        self.n_state = n_state\n",
    "\n",
    "        # Memory\n",
    "        self.memory = Memory(memory_size)\n",
    "        \n",
    "        # Batch size when learning\n",
    "        self.batch_size = batch_size\n",
    "\n",
    "    def learned_act(self, s):\n",
    "        prediction=self.model.predict(np.array([s,]))\n",
    "        return np.argmax(prediction)\n",
    "\n",
    "    def reinforce(self, s_, n_s_, a_, r_, game_over):\n",
    "        # Two steps: first memorize the states, second learn from the pool\n",
    "\n",
    "        self.memory.remember([s_, n_s_, a_, r_, game_over])\n",
    "        \n",
    "        input_states = np.zeros((self.batch_size, 5,5,self.n_state))\n",
    "        target_q = np.zeros((self.batch_size, 4))\n",
    "        \n",
    "        for i in range(self.batch_size):\n",
    "            # Random Access Memories\n",
    "            [s_batch, n_s_batch, a_batch, r_batch, game_over_batch] = self.memory.random_access()\n",
    "            input_states[i] = s_batch\n",
    "            \n",
    "            # Model prediction\n",
    "            target_q[i] = self.model.predict(np.array([s_batch]))\n",
    "\n",
    "            # Compute the Q values targets if the game is not over\n",
    "            if game_over:\n",
    "                target_q[i, a_batch] = r_batch\n",
    "            else:\n",
    "                prediction = self.model.predict(np.array([n_s_batch]))\n",
    "                target_q[i, a_batch] = r_batch + self.discount * np.amax(prediction)\n",
    "\n",
    "        # HINT: Clip the target to avoid exploiding gradients.. -- clipping is a bit tighter\n",
    "        target_q = np.clip(target_q, -3, 3)\n",
    "        return self.model.train_on_batch(input_states, target_q)\n",
    "\n",
    "    def save(self, name_weights='model.h5', name_model='model.json'):\n",
    "        self.model.save_weights(name_weights, overwrite=True)\n",
    "        with open(name_model, \"w\") as outfile:\n",
    "            json.dump(self.model.to_json(), outfile)\n",
    "            \n",
    "    def load(self, name_weights='model.h5', name_model='model.json'):\n",
    "        with open(name_model, \"r\") as jfile:\n",
    "            model = model_from_json(json.load(jfile))\n",
    "        model.load_weights(name_weights)\n",
    "        model.compile(\"sgd\", \"mse\")\n",
    "        self.model = model\n",
    "            \n",
    "class DQN_FC(DQN):\n",
    "    \n",
    "    def __init__(self, *args, lr = 0.1, **kwargs):\n",
    "        super(DQN_FC, self).__init__(*args, **kwargs)\n",
    "        \n",
    "        # Fully connected model\n",
    "        model = Sequential()\n",
    "\n",
    "        model.add(Flatten(input_shape=(5, 5, self.n_state)))\n",
    "        model.add(Dense(32))\n",
    "        model.add(Activation('relu'))\n",
    "\n",
    "        model.add(Dense(32))\n",
    "        model.add(Activation('relu'))\n",
    "\n",
    "        model.add(Dense(4))\n",
    "        model.add(Activation('linear'))\n",
    "\n",
    "        model.compile(sgd(lr = lr, decay = 1e-4, momentum = 0.8), \"mse\")\n",
    "        self.model = model"
   ]
  },
  {
   "cell_type": "code",
   "execution_count": 26,
   "metadata": {
    "collapsed": true
   },
   "outputs": [
    {
     "name": "stdout",
     "output_type": "stream",
     "text": [
      "Epoch 000/040 | Loss 0.0108 | Win/lose count 3.0/10.0 (-7.0)\n",
      "Epoch 001/040 | Loss 0.0126 | Win/lose count 6.0/10.0 (-4.0)\n",
      "Epoch 002/040 | Loss 0.0305 | Win/lose count 9.0/10.0 (-1.0)\n",
      "Epoch 003/040 | Loss 0.0400 | Win/lose count 3.5/2.0 (1.5)\n",
      "Epoch 004/040 | Loss 0.0673 | Win/lose count 9.0/3.0 (6.0)\n",
      "Epoch 005/040 | Loss 0.1240 | Win/lose count 4.5/2.0 (2.5)\n",
      "Epoch 006/040 | Loss 0.0698 | Win/lose count 5.5/6.0 (-0.5)\n",
      "Epoch 007/040 | Loss 0.0971 | Win/lose count 13.5/8.0 (5.5)\n",
      "Epoch 008/040 | Loss 0.0848 | Win/lose count 11.5/8.0 (3.5)\n",
      "Epoch 009/040 | Loss 0.0983 | Win/lose count 11.5/10.0 (1.5)\n",
      "Epoch 010/040 | Loss 0.0952 | Win/lose count 9.0/3.0 (6.0)\n",
      "Epoch 011/040 | Loss 0.1144 | Win/lose count 8.0/6.0 (2.0)\n",
      "Epoch 012/040 | Loss 0.0991 | Win/lose count 20.0/5.0 (15.0)\n",
      "Epoch 013/040 | Loss 0.1250 | Win/lose count 7.5/6.0 (1.5)\n",
      "Epoch 014/040 | Loss 0.1025 | Win/lose count 4.5/4.0 (0.5)\n",
      "Epoch 015/040 | Loss 0.1550 | Win/lose count 13.0/3.0 (10.0)\n",
      "Epoch 016/040 | Loss 0.1538 | Win/lose count 15.5/1.0 (14.5)\n",
      "Epoch 017/040 | Loss 0.1512 | Win/lose count 13.0/4.0 (9.0)\n",
      "Epoch 018/040 | Loss 0.1379 | Win/lose count 12.0/7.0 (5.0)\n",
      "Epoch 019/040 | Loss 0.1796 | Win/lose count 18.5/4.0 (14.5)\n",
      "Epoch 020/040 | Loss 0.1349 | Win/lose count 16.5/4.0 (12.5)\n",
      "Epoch 021/040 | Loss 0.1121 | Win/lose count 22.5/5.0 (17.5)\n",
      "Epoch 022/040 | Loss 0.1370 | Win/lose count 19.5/3.0 (16.5)\n",
      "Epoch 023/040 | Loss 0.1752 | Win/lose count 10.0/7.0 (3.0)\n",
      "Epoch 024/040 | Loss 0.1864 | Win/lose count 20.0/10.0 (10.0)\n",
      "Epoch 025/040 | Loss 0.1481 | Win/lose count 12.0/1.0 (11.0)\n",
      "Epoch 026/040 | Loss 0.2427 | Win/lose count 23.0/5.0 (18.0)\n",
      "Epoch 027/040 | Loss 0.2058 | Win/lose count 14.5/2.0 (12.5)\n",
      "Epoch 028/040 | Loss 0.1772 | Win/lose count 14.0/6.0 (8.0)\n",
      "Epoch 029/040 | Loss 0.1706 | Win/lose count 17.5/6.0 (11.5)\n",
      "Epoch 030/040 | Loss 0.1428 | Win/lose count 21.0/6.0 (15.0)\n",
      "Epoch 031/040 | Loss 0.1561 | Win/lose count 7.5/2.0 (5.5)\n",
      "Epoch 032/040 | Loss 0.1687 | Win/lose count 13.5/3.0 (10.5)\n",
      "Epoch 033/040 | Loss 0.1566 | Win/lose count 10.5/6.0 (4.5)\n",
      "Epoch 034/040 | Loss 0.1435 | Win/lose count 15.0/6.0 (9.0)\n",
      "Epoch 035/040 | Loss 0.1568 | Win/lose count 10.0/2.0 (8.0)\n",
      "Epoch 036/040 | Loss 0.1359 | Win/lose count 10.5/0 (10.5)\n",
      "Epoch 037/040 | Loss 0.1837 | Win/lose count 24.5/3.0 (21.5)\n",
      "Epoch 038/040 | Loss 0.2075 | Win/lose count 23.5/6.0 (17.5)\n",
      "Epoch 039/040 | Loss 0.1357 | Win/lose count 11.5/3.0 (8.5)\n"
     ]
    }
   ],
   "source": [
    "# Instanciate environment\n",
    "env_fc_basic = Environment(grid_size = size, max_time = T, temperature = 0.3)\n",
    "agent_fc_basic = DQN_FC(size, lr = 0.1, epsilon = 0.1, memory_size = 2000, batch_size = 32)\n",
    "train(agent_fc_basic, env_fc_basic, 40, prefix = 'fc_train_basic_')"
   ]
  },
  {
   "cell_type": "code",
   "execution_count": 27,
   "metadata": {},
   "outputs": [
    {
     "data": {
      "text/html": [
       "<video alt=\"test\" controls>\n",
       "                <source src=\"data:video/mp4;base64,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\" type=\"video/mp4\" />\n",
       "             </video>"
      ],
      "text/plain": [
       "<IPython.core.display.HTML object>"
      ]
     },
     "execution_count": 27,
     "metadata": {},
     "output_type": "execute_result"
    }
   ],
   "source": [
    "if movie_: HTML(display_videos('fc_train_basic_30.mp4'))"
   ]
  },
  {
   "cell_type": "markdown",
   "metadata": {},
   "source": [
    "***\n",
    "***\n",
    "__Question 8__ Implement the DQN training algorithm using a CNN (for example, 2 convolutional layers and one final fully connected layer)."
   ]
  },
  {
   "cell_type": "code",
   "execution_count": 28,
   "metadata": {
    "collapsed": true
   },
   "outputs": [],
   "source": [
    "class DQN_CNN(DQN):\n",
    "\n",
    "    def __init__(self, *args, lr = 0.1, **kwargs):\n",
    "        super(DQN_CNN, self).__init__(*args,**kwargs)\n",
    "        # CNN model\n",
    "        model = Sequential() \n",
    "        # Strides are due to the multiple images to represent the game\n",
    "        model.add(Conv2D(32, kernel_size = (1, 1), strides = (1, 1), input_shape = (5, 5, self.n_state), data_format = 'channels_last'))\n",
    "        model.add(Activation('relu'))\n",
    "        \n",
    "        model.add(Conv2D(16, kernel_size = (3, 3), strides = (1, 1), data_format = 'channels_last'))\n",
    "        model.add(Activation('relu'))\n",
    "        \n",
    "        model.add(Flatten())\n",
    "        model.add(Dense(4)) \n",
    "        \n",
    "        model.add(Activation('linear')) \n",
    "        \n",
    "        model.compile(sgd(lr=lr, decay=1e-4, momentum=0.8), \"mse\")\n",
    "        self.model = model"
   ]
  },
  {
   "cell_type": "code",
   "execution_count": 29,
   "metadata": {
    "collapsed": true
   },
   "outputs": [
    {
     "name": "stdout",
     "output_type": "stream",
     "text": [
      "Epoch 000/040 | Loss 0.3766 | Win/lose count 27.0/12.0 (15.0)\n",
      "Epoch 001/040 | Loss 0.2782 | Win/lose count 22.0/11.0 (11.0)\n",
      "Epoch 002/040 | Loss 0.4457 | Win/lose count 21.5/14.0 (7.5)\n",
      "Epoch 003/040 | Loss 0.3885 | Win/lose count 22.5/14.0 (8.5)\n",
      "Epoch 004/040 | Loss 0.2071 | Win/lose count 24.0/11.0 (13.0)\n",
      "Epoch 005/040 | Loss 0.2117 | Win/lose count 22.0/12.0 (10.0)\n",
      "Epoch 006/040 | Loss 0.2471 | Win/lose count 23.0/10.0 (13.0)\n",
      "Epoch 007/040 | Loss 0.2187 | Win/lose count 18.0/13.0 (5.0)\n",
      "Epoch 008/040 | Loss 0.2164 | Win/lose count 17.0/14.0 (3.0)\n",
      "Epoch 009/040 | Loss 0.1843 | Win/lose count 27.0/10.0 (17.0)\n",
      "Epoch 010/040 | Loss 0.3088 | Win/lose count 22.5/12.0 (10.5)\n",
      "Epoch 011/040 | Loss 0.2695 | Win/lose count 26.0/10.0 (16.0)\n",
      "Epoch 012/040 | Loss 0.2692 | Win/lose count 18.5/9.0 (9.5)\n",
      "Epoch 013/040 | Loss 0.2847 | Win/lose count 27.0/11.0 (16.0)\n",
      "Epoch 014/040 | Loss 0.3416 | Win/lose count 30.0/9.0 (21.0)\n",
      "Epoch 015/040 | Loss 0.2026 | Win/lose count 23.0/9.0 (14.0)\n",
      "Epoch 016/040 | Loss 0.3026 | Win/lose count 22.5/15.0 (7.5)\n",
      "Epoch 017/040 | Loss 0.3052 | Win/lose count 23.0/10.0 (13.0)\n",
      "Epoch 018/040 | Loss 0.3156 | Win/lose count 23.5/17.0 (6.5)\n",
      "Epoch 019/040 | Loss 0.1829 | Win/lose count 29.0/16.0 (13.0)\n",
      "Epoch 020/040 | Loss 0.1626 | Win/lose count 21.5/9.0 (12.5)\n",
      "Epoch 021/040 | Loss 0.2130 | Win/lose count 24.5/6.0 (18.5)\n",
      "Epoch 022/040 | Loss 0.2659 | Win/lose count 26.0/15.0 (11.0)\n",
      "Epoch 023/040 | Loss 0.1736 | Win/lose count 27.5/15.0 (12.5)\n",
      "Epoch 024/040 | Loss 0.2635 | Win/lose count 21.5/7.0 (14.5)\n",
      "Epoch 025/040 | Loss 0.1766 | Win/lose count 24.5/9.0 (15.5)\n",
      "Epoch 026/040 | Loss 0.2833 | Win/lose count 21.0/14.0 (7.0)\n",
      "Epoch 027/040 | Loss 0.1520 | Win/lose count 16.5/14.0 (2.5)\n",
      "Epoch 028/040 | Loss 0.2025 | Win/lose count 24.5/14.0 (10.5)\n",
      "Epoch 029/040 | Loss 0.2090 | Win/lose count 24.0/13.0 (11.0)\n",
      "Epoch 030/040 | Loss 0.2795 | Win/lose count 22.5/11.0 (11.5)\n",
      "Epoch 031/040 | Loss 0.2542 | Win/lose count 21.0/13.0 (8.0)\n",
      "Epoch 032/040 | Loss 0.2375 | Win/lose count 18.0/7.0 (11.0)\n",
      "Epoch 033/040 | Loss 0.1554 | Win/lose count 20.5/14.0 (6.5)\n",
      "Epoch 034/040 | Loss 0.1752 | Win/lose count 25.0/10.0 (15.0)\n",
      "Epoch 035/040 | Loss 0.2384 | Win/lose count 21.0/12.0 (9.0)\n",
      "Epoch 036/040 | Loss 0.1332 | Win/lose count 23.0/9.0 (14.0)\n",
      "Epoch 037/040 | Loss 0.2309 | Win/lose count 27.5/16.0 (11.5)\n",
      "Epoch 038/040 | Loss 0.1326 | Win/lose count 26.5/6.0 (20.5)\n",
      "Epoch 039/040 | Loss 0.2074 | Win/lose count 23.5/9.0 (14.5)\n"
     ]
    }
   ],
   "source": [
    "# Set environment with by default temperature\n",
    "env_cnn_basic = Environment(grid_size = size, max_time = T, temperature = 0.3)\n",
    "# Instanciate agent\n",
    "agent_cnn_basic = DQN_CNN(size, lr = 0.1, epsilon = 0.2, memory_size = 2000, batch_size = 32)\n",
    "# Train + test\n",
    "train(agent_cnn_basic, env_cnn_basic, 40, prefix='cnn_train_basic_')"
   ]
  },
  {
   "cell_type": "code",
   "execution_count": 35,
   "metadata": {},
   "outputs": [
    {
     "data": {
      "text/html": [
       "<video alt=\"test\" controls>\n",
       "                <source src=\"data:video/mp4;base64,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\" type=\"video/mp4\" />\n",
       "             </video>"
      ],
      "text/plain": [
       "<IPython.core.display.HTML object>"
      ]
     },
     "execution_count": 35,
     "metadata": {},
     "output_type": "execute_result"
    }
   ],
   "source": [
    "#if movie_: \n",
    "HTML(display_videos('cnn_train_basic_30.mp4'))"
   ]
  },
  {
   "cell_type": "markdown",
   "metadata": {},
   "source": [
    "***\n",
    "***\n",
    "__Question 9__ Test both algorithms and compare their performances. Which issue(s) do you observe? Observe also different behaviors by changing the temperature."
   ]
  },
  {
   "cell_type": "markdown",
   "metadata": {},
   "source": [
    "> Test CNN (w/o high temperature)"
   ]
  },
  {
   "cell_type": "code",
   "execution_count": 36,
   "metadata": {
    "collapsed": true
   },
   "outputs": [
    {
     "name": "stdout",
     "output_type": "stream",
     "text": [
      "Test basic CNN:\n",
      "Win/lose count 27.0/15.0. Average score (12.0)\n",
      "Win/lose count 26.0/11.0. Average score (13.5)\n",
      "Win/lose count 20.0/5.0. Average score (14.0)\n",
      "Win/lose count 17.0/7.0. Average score (13.0)\n",
      "Win/lose count 17.5/3.0. Average score (13.3)\n",
      "Final score: 13.3\n"
     ]
    }
   ],
   "source": [
    "print('Test basic CNN:')\n",
    "# Set environment with by default temperature\n",
    "env_cnn = Environment(grid_size = size, max_time = T, temperature = 0.3)\n",
    "# Instanciate CNN agent with trained weights\n",
    "agent_cnn = DQN_CNN(size, lr = 0.1, epsilon = 0.2, memory_size = 2000, batch_size = 32)\n",
    "agent_cnn.load(name_weights = 'cnn_train_basic_model.h5', name_model = 'cnn_train_basic_model.json')\n",
    "# Test agent\n",
    "test(agent_cnn, env_cnn, 5, prefix = 'cnn_test_basic_')"
   ]
  },
  {
   "cell_type": "code",
   "execution_count": 32,
   "metadata": {},
   "outputs": [
    {
     "data": {
      "text/html": [
       "<video alt=\"test\" controls>\n",
       "                <source src=\"data:video/mp4;base64,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\" type=\"video/mp4\" />\n",
       "             </video>"
      ],
      "text/plain": [
       "<IPython.core.display.HTML object>"
      ]
     },
     "execution_count": 32,
     "metadata": {},
     "output_type": "execute_result"
    }
   ],
   "source": [
    "if movie_: HTML(display_videos('cnn_test_basic_4.mp4'))"
   ]
  },
  {
   "cell_type": "code",
   "execution_count": 34,
   "metadata": {},
   "outputs": [
    {
     "name": "stdout",
     "output_type": "stream",
     "text": [
      "Train CNN with higher temperature:\n",
      "Epoch 000/040 | Loss 0.6633 | Win/lose count 35.0/24.0 (11.0)\n",
      "Epoch 001/040 | Loss 0.8482 | Win/lose count 45.5/19.0 (26.5)\n",
      "Epoch 002/040 | Loss 0.8847 | Win/lose count 47.5/11.0 (36.5)\n",
      "Epoch 003/040 | Loss 0.5738 | Win/lose count 46.0/16.0 (30.0)\n",
      "Epoch 004/040 | Loss 0.6070 | Win/lose count 32.0/10.0 (22.0)\n",
      "Epoch 005/040 | Loss 0.4540 | Win/lose count 43.5/12.0 (31.5)\n",
      "Epoch 006/040 | Loss 0.4505 | Win/lose count 46.0/11.0 (35.0)\n",
      "Epoch 007/040 | Loss 0.5240 | Win/lose count 45.5/23.0 (22.5)\n",
      "Epoch 008/040 | Loss 0.5002 | Win/lose count 50.0/16.0 (34.0)\n",
      "Epoch 009/040 | Loss 0.4215 | Win/lose count 44.5/11.0 (33.5)\n",
      "Epoch 010/040 | Loss 0.4185 | Win/lose count 45.5/14.0 (31.5)\n",
      "Epoch 011/040 | Loss 0.4039 | Win/lose count 52.5/19.0 (33.5)\n",
      "Epoch 012/040 | Loss 0.4170 | Win/lose count 51.5/14.0 (37.5)\n",
      "Epoch 013/040 | Loss 0.4883 | Win/lose count 45.5/16.0 (29.5)\n",
      "Epoch 014/040 | Loss 0.3561 | Win/lose count 42.0/8.0 (34.0)\n",
      "Epoch 015/040 | Loss 0.5052 | Win/lose count 49.5/13.0 (36.5)\n",
      "Epoch 016/040 | Loss 0.5325 | Win/lose count 48.0/13.0 (35.0)\n",
      "Epoch 017/040 | Loss 0.5410 | Win/lose count 40.5/18.0 (22.5)\n",
      "Epoch 018/040 | Loss 0.5275 | Win/lose count 49.0/12.0 (37.0)\n",
      "Epoch 019/040 | Loss 0.4669 | Win/lose count 49.5/15.0 (34.5)\n",
      "Epoch 020/040 | Loss 0.5934 | Win/lose count 43.5/16.0 (27.5)\n",
      "Epoch 021/040 | Loss 0.3886 | Win/lose count 41.5/18.0 (23.5)\n",
      "Epoch 022/040 | Loss 0.2035 | Win/lose count 49.0/16.0 (33.0)\n",
      "Epoch 023/040 | Loss 0.4087 | Win/lose count 39.5/15.0 (24.5)\n",
      "Epoch 024/040 | Loss 0.4666 | Win/lose count 44.0/25.0 (19.0)\n",
      "Epoch 025/040 | Loss 0.5283 | Win/lose count 52.0/12.0 (40.0)\n",
      "Epoch 026/040 | Loss 0.5272 | Win/lose count 39.5/12.0 (27.5)\n",
      "Epoch 027/040 | Loss 0.4944 | Win/lose count 42.5/17.0 (25.5)\n",
      "Epoch 028/040 | Loss 0.3983 | Win/lose count 42.5/18.0 (24.5)\n",
      "Epoch 029/040 | Loss 0.4976 | Win/lose count 53.5/16.0 (37.5)\n",
      "Epoch 030/040 | Loss 0.5558 | Win/lose count 46.0/13.0 (33.0)\n",
      "Epoch 031/040 | Loss 0.3033 | Win/lose count 39.0/17.0 (22.0)\n",
      "Epoch 032/040 | Loss 0.5234 | Win/lose count 38.5/15.0 (23.5)\n",
      "Epoch 033/040 | Loss 0.7041 | Win/lose count 55.0/11.0 (44.0)\n",
      "Epoch 034/040 | Loss 0.4823 | Win/lose count 47.0/8.0 (39.0)\n",
      "Epoch 035/040 | Loss 0.4960 | Win/lose count 54.0/8.0 (46.0)\n",
      "Epoch 036/040 | Loss 0.5336 | Win/lose count 50.0/10.0 (40.0)\n",
      "Epoch 037/040 | Loss 0.3982 | Win/lose count 47.5/16.0 (31.5)\n",
      "Epoch 038/040 | Loss 0.3787 | Win/lose count 49.0/11.0 (38.0)\n",
      "Epoch 039/040 | Loss 0.5686 | Win/lose count 40.0/11.0 (29.0)\n"
     ]
    }
   ],
   "source": [
    "print('Train CNN with higher temperature:')\n",
    "# Set environment with by doubled temperature\n",
    "env_temp = Environment(grid_size = size, max_time = T, temperature = 0.6)\n",
    "# Instanciate agent\n",
    "agent_temp = DQN_CNN(size, lr =0.1, epsilon = 0.2, memory_size = 2000, batch_size = 32)\n",
    "# Train + test\n",
    "train(agent_temp, env_temp, 40, prefix = 'cnn_train_temperature_')"
   ]
  },
  {
   "cell_type": "code",
   "execution_count": null,
   "metadata": {},
   "outputs": [],
   "source": [
    "#if movie_: \n",
    "HTML(display_videos('cnn_train_temperature_0.mp4'))"
   ]
  },
  {
   "cell_type": "code",
   "execution_count": 38,
   "metadata": {},
   "outputs": [
    {
     "name": "stdout",
     "output_type": "stream",
     "text": [
      "Test CNN with higher temperature:\n",
      "Win/lose count 40.0/15.0. Average score (25.0)\n",
      "Win/lose count 36.0/12.0. Average score (24.5)\n",
      "Win/lose count 46.0/16.0. Average score (26.333333333333332)\n",
      "Win/lose count 48.0/11.0. Average score (29.0)\n",
      "Win/lose count 42.0/14.0. Average score (28.8)\n",
      "Final score: 28.8\n"
     ]
    }
   ],
   "source": [
    "print('Test CNN with higher temperature:')\n",
    "# Set environment with by doubled temperature\n",
    "env_cnn_temp = Environment(grid_size = size, max_time = T, temperature = 0.6)\n",
    "# Instanciate CNN agent\n",
    "agent_cnn_temp = DQN_CNN(size, lr = 0.1, epsilon = 0.2, memory_size = 2000, batch_size = 32)\n",
    "agent_cnn_temp.load(name_weights = 'cnn_train_temperature_model.h5', name_model = 'cnn_train_temperature_model.json')\n",
    "test(agent_cnn_temp, env_cnn_temp, 5, prefix = 'cnn_test_temperature_')"
   ]
  },
  {
   "cell_type": "code",
   "execution_count": 39,
   "metadata": {},
   "outputs": [
    {
     "data": {
      "text/html": [
       "<video alt=\"test\" controls>\n",
       "                <source src=\"data:video/mp4;base64,AAAAIGZ0eXBpc29tAAACAGlzb21pc28yYXZjMW1wNDEAAAAIZnJlZQAAOK9tZGF0AAACrQYF//+p3EXpvebZSLeWLNgg2SPu73gyNjQgLSBjb3JlIDE1NSByMjkxNyAwYTg0ZDk4IC0gSC4yNjQvTVBFRy00IEFWQyBjb2RlYyAtIENvcHlsZWZ0IDIwMDMtMjAxOCAtIGh0dHA6Ly93d3cudmlkZW9sYW4ub3JnL3gyNjQuaHRtbCAtIG9wdGlvbnM6IGNhYmFjPTEgcmVmPTMgZGVibG9jaz0xOjA6MCBhbmFseXNlPTB4MToweDExMSBtZT1oZXggc3VibWU9NyBwc3k9MSBwc3lfcmQ9MS4wMDowLjAwIG1peGVkX3JlZj0xIG1lX3JhbmdlPTE2IGNocm9tYV9tZT0xIHRyZWxsaXM9MSA4eDhkY3Q9MCBjcW09MCBkZWFkem9uZT0yMSwxMSBmYXN0X3Bza2lwPTEgY2hyb21hX3FwX29mZnNldD00IHRocmVhZHM9NiBsb29rYWhlYWRfdGhyZWFkcz0xIHNsaWNlZF90aHJlYWRzPTAgbnI9MCBkZWNpbWF0ZT0xIGludGVybGFjZWQ9MCBibHVyYXlfY29tcGF0PTAgY29uc3RyYWluZWRfaW50cmE9MCBiZnJhbWVzPTMgYl9weXJhbWlkPTIgYl9hZGFwdD0xIGJfYmlhcz0wIGRpcmVjdD0xIHdlaWdodGI9MSBvcGVuX2dvcD0wIHdlaWdodHA9MiBrZXlpbnQ9MjUwIGtleWludF9taW49MjUgc2NlbmVjdXQ9NDAgaW50cmFfcmVmcmVzaD0wIHJjX2xvb2thaGVhZD00MCByYz1jcmYgbWJ0cmVlPTEgY3JmPTIzLjAgcWNvbXA9MC42MCBxcG1pbj0wIHFwbWF4PTY5IHFwc3RlcD00IGlwX3JhdGlvPTEuNDAgYXE9MToxLjAwAIAAAALAZYiEADP//vaG+BTYUyP+T7/8I/+5H7cfWfrixkIJvrVeQ9GAMl8a/5lGYaXpyc8t7R+vTNAEZz6HlLJIofgUkwDfMsjnE4qnMdlqeZ/wlkCKwEsc5pNzco/VMWi0z3gCG5Ec+9PWkYFV+++3/gvbkRjEL0gYgv/bJDIOpH8PsrhxvcPxE1GQqkHh++lwbILBiE+kPV8deaNNHUdEzsEIntgoMyUBBCBIbWBljdBsHVgwLqMsYtJaYxZm1GSJjp/ZpdWC5fasV7sfJ3JEkphsGPunixz49aH3bh+8kB+BCNY1ajkNvmFHeiefCJ8BXcxrs03651iRasalY4/9qqlTmxCu4stN9P9Wy3AkbEo+Li1pjq6+ltTCPoDMNVhqOEoR6HJIdEAGIyw4O2QT2rSwrPptuKi9gLYZa7PCMjOibuz22V+HBqpA3M7SungpOJeUI86L2SI9pvtYlNrThkgeQfGvsUdPDvGmczYDslqGhRG/yGAV1WRuiJAwXYUKBDYunJdOFxN3UqnxY6M9Jye5HSUxkpSV9BKGFAROm2mAEeH55Rp9IWrPfOrgzpkT6O8E522zX/sDm+4hQMMjgMLE73npL80XMcbhWjwCvBCty7yuaMdhH4CYzoi6rcGOOcFi53ezlRilepaWl884jWHCyQFC2H9usDpCgBfmwJay4Xmwc01wNlP17XGVVkPAeBuNI+khkmLFpHZCuiK6vg6dW8imt1+dwAAQ0dqWjlFTeb4zgzdUmhxXAdCiEGbEAA0v+dovHx+N8g38OTkmqyUc06UmYvjfJklJ5uYqy+yNywRA39YhAqm5JYbq7wDCH5+l7CWSqycqHdfkaQ/6N4/cN8S5wzqsbKrJybFgwothQQCkBCuIOuwzGTRMGIQPqMMarx1x9/Suet5DSGZy/NK2d1fnzEqZJp8tJ+WLTFAAGjEAAAAgQZohbEN//qeEAPdET/Vb6vB+BS+ip8CjhX+BS/tJBqQAAAAYQZpCPCGTKYQ3//6nhAD3HGfymCb2FdDxAAAAHkGaZEnhDyZTBTw3//6nhAGNxuiggDLjZb/B/uYtoAAAABABnoNqQr8BNnmiZE0rNmpBAAAAG0GahUnhDyZTAh3//qmWAMR6XQOHwtQT+EBFwQAAABJBmqlJ4Q8mUwId//6plgAAlYEAAAAMQZ7HRRE8L/8AALKBAAAAEAGe5nRCvwEu3Hel20Is2YAAAAAQAZ7oakK/AS55oloYDxs2YAAAABNBmu1JqEFomUwId//+qZYAAJWBAAAADEGfC0URLC//AACygAAAABABnyp0Qr8BLtx3pd1hizZgAAAAEAGfLGpCvwEueaJaGA8bNmEAAAATQZsxSahBbJlMCHf//qmWAACVgQAAAAxBn09FFSwv/wAAsoEAAAAQAZ9udEK/AS7cd6XdYYs2YAAAABABn3BqQr8BLnmiWhgPGzZgAAAAEkGbdUmoQWyZTAhv//6nhAABJwAAAAxBn5NFFSwv/wAAsoAAAAAQAZ+ydEK/AS7cd6XdYYs2YAAAABABn7RqQr8BLnmiWhgPGzZhAAAAEkGbuUmoQWyZTAhv//6nhAABJwAAAAxBn9dFFSwv/wAAsoEAAAAQAZ/2dEK/AS7cd6XdYYs2YQAAABABn/hqQr8BLnmiWhgPGzZgAAAAGUGb/EmoQWyZTAhn//6eEAXHM44981eE8tsAAAAPQZ4aRRUsK/8BLpNw1mzAAAAADQGeO2pCvwEvDSLes2cAAAAZQZo9SahBbJlMCGf//p4QBdPaj7PTH1f6XwAAABhBml5J4QpSZTAhn/6eEAOf6+/kSI+sIdMAAAAYQZp/SeEOiZTAhn/+nhACXfEP7ZDH1hFtAAAAGEGagEnhDyZTAhn//p4QAYn19/IkR9YSLwAAABhBmqFJ4Q8mUwIZ//6eEAD5evv5EiPrCbMAAAAYQZrCSeEPJlMCGf/+nhAApHum+ipWa+GnAAAAGEGa40nhDyZTAhn//p4QAGn9ffyJEfWF/gAAAB5BmwVJ4Q8mUwURPDP//p4QAEO+If4K/9adI2KsPc0AAAAQAZ8kakK/AA4oQHwH1/At8QAAABhBmyZJ4Q8mUwIZ//6eEAArXxO+2Qx9YkEAAAAYQZtHSeEPJlMCGf/+nhAAHD9cbe9N918TAAAAGEGbaEnhDyZTAhn//p4QABzvXG3vTfde+gAAABlBm4lJ4Q8mUwIb//6nhAALn6J/qPYHJPHwAAAAGUGbqknhDyZTAhv//qeEAAvrq0dH3GzBctEAAAArQZvOSeEPJlMCGf/+nhAATb4t23MssYVPzLJg4DzK34/+cf93nu0bbRSfgAAAABZBn+xFETwv/wAL8q1JnJ+7Vr2xVPWAAAAADwGeC3RCvwAKPlgwbMcUAQAAABABng1qQr8AD+M8IeNDWVmBAAAAHEGaEEmoQWiZTBTwz/6eEABzvXLrY4bB3XnTLdEAAAAQAZ4vakK/ABiHbhNxn16iOAAAABhBmjFJ4QpSZTAhn/6eEAC1cGOfowHZoV4AAAAYQZpSSeEOiZTAhn/+nhAAude40Lpvut69AAAAGkGac0nhDyZTAhv//qeEADDurSCEog7f6Ne9AAAAGUGalEnhDyZTAhv//qeEAEtQBZtg21TpUvAAAAAdQZq4SeEPJlMCGf/+nhABzvXI3Yy8yZQ8hgJmNSEAAAARQZ7WRRE8L/8AR2e+2/vKquAAAAAPAZ71dEK/AGIks3Bsl42XAAAAEwGe92pCvwBiAYWYD5pPUP5sdTEAAAAaQZr5SahBaJlMCGf//p4QAdn1xrhWx5VHi4AAAAAZQZsaSeEKUmUwIb/+p4QAeUHhTyyihPgEEQAAABhBmztJ4Q6JlMCG//6nhABRsVpBCJ/ltzMAAAAqQZteSeEPJlMCG//+p4QAg3yRXOZZXPePwKVLZ+BTOwMXbzrbXfRnzfTdAAAAEkGffEURPCv/AGwdtv9hvOypNwAAABABn51qQr8AbB2pbhs2priAAAAAHkGbgkmoQWiZTAhn//6eEAMiR0NlLEOjNN9FeXdhfAAAABFBn6BFESwv/wB5f2jGWrflSQAAAA8Bn990Qr8AqHQDoTkvAMAAAAAQAZ/BakK/AGwI7c60MLxyQQAAABlBm8NJqEFsmUwIZ//+nhABSPdN9FSs18CmAAAAGUGb5EnhClJlMCG//qeEADY+wf4Tgt0JakEAAAAeQZoGSeEOiZTBTRMM//6eEACHfEP8Ff+tOkbFWHPNAAAAEAGeJWpCvwAcUID4D6/gRfEAAAAYQZonSeEPJlMCGf/+nhAAVr4nfbIY+sNBAAAAGUGaSEnhDyZTAhv//qeEAA43sH+E4LdCpMAAAAAZQZppSeEPJlMCG//+p4QACTfHT6jjQkPbQAAAACFBmotJ4Q8mUwURPDf//qeEAAX/2VgQn+eQVqmQkGj85tUAAAAQAZ6qakK/AATWWQw+gJB96AAAABpBmqxJ4Q8mUwId//6plgADFVIMz8POjhD7YAAAABlBmtBJ4Q8mUwIb//6nhAAOj7Kzz/arrc6JAAAAHUGe7kURPC//AAiWSM/4g9z//EIL4n/5Yl2XGuwJAAAAEAGfDXRCvwAL9Ja8DplOgIEAAAAQAZ8PakK/AAvxLadeAKCAgAAAABlBmxNJqEFomUwIb//+p4QACWoAs2xihOtAAAAAD0GfMUURLCv/AAeYH/N+4QAAAA0Bn1JqQr8AB5rAoGumAAAAGEGbVkmoQWyZTAhv//6nhAAJd8dPqYBHZQAAABJBn3RFFSwr/wAHmBec6yfKM4EAAAAQAZ+VakK/AAdsImab6SDycAAAABlBm5pJqEFsmUwIZ//+nhAAJd8Q/wWAOJtBAAAAEkGfuEUVLC//AAXSzY23rTLC2QAAAA8Bn9d0Qr8AB8Yw8oaBnCcAAAAQAZ/ZakK/AAfEF5zrQwwHwQAAABlBm9tJqEFsmUwIb//+p4QABifYPXsz4IxFAAAAGUGb/EnhClJlMCG//qeEAAkqALNts+z57UEAAAARQZoASeEOiZTAhv/+p4QAAScAAAAMQZ4+RRE8L/8AALKAAAAAEAGeXXRCvwALp0A5/WgcxqAAAAAQAZ5fakK/AAdZQ3sVo+5VgQAAABpBmkFJqEFomUwIb//+p4QADiHGf6rfMfi6YAAAABlBmmJJ4QpSZTAh3/6plgALJ8gzQB6S+xfRAAAAFkGahknhDomUwId//qmWABEfjz+SZcAAAAAOQZ6kRRE8L/8AFHZUNmEAAAAQAZ7DdEK/ABurKu6vx3giYQAAABABnsVqQr8AEaVI72ePuCCBAAAAHEGaykmoQWiZTAhv//6nhAAWP3U/cyMLZihHNFUAAAAQQZ7oRREsL/8ADTKu7/OGsAAAAA8Bnwd0Qr8AG6sq7vN278AAAAAPAZ8JakK/ABHZW6UaQ8anAAAAIEGbDEmoQWyZTBRMN//+p4QAINI+WYoMQq5jn10/8/VAAAAAEAGfK2pCvwAbB2o5X9uID8AAAAAbQZsvSeEKUmUwIZ/+nhAAyfr7+hXQB7oF7TWBAAAAEkGfTUU0TCv/ACoYOu7v6RX1QQAAAA4Bn25qQr8AKg267jwPqwAAAB1Bm3FJqEFomUwU8M/+nhAAfL39/UOVkfVhu0yeYAAAABABn5BqQr8AGmJkmm+kg5rwAAAAGEGbkknhClJlMCGf/p4QAFR9030VKzXyEwAAABhBm7NJ4Q6JlMCGf/6eEAA2Pr7+RIj6w/MAAAAZQZvUSeEPJlMCGf/+nhAAIt8WN/xlybKvNQAAABpBm/VJ4Q8mUwIb//6nhAAIt9LoMfvPgtuvPwAAABhBmhdJ4Q8mUwURPDf//qeEAAWP40/i34AAAAAQAZ42akK/AAbXUTyI6/hvQQAAABJBmjlJ4Q8mUwU8N//+p4QAAScAAAAQAZ5YakK/AAbXUTyI6/hvQAAAABlBmlpJ4Q8mUwIb//6nhAAId9HPuZFCQ+LBAAAAHkGafknhDyZTAhv//qeEAA0t1KzbgW+OnkN5hie+OAAAABFBnpxFETwv/wAHxTo9FC+xVQAAAA8Bnrt0Qr8ABHbRi4D89cEAAAAQAZ69akK/AArNjxyv7cQ/QAAAABpBmr9JqEFomUwIb//+p4QADS3UrMYITewuEgAAAB5BmsFJ4QpSZTBREsN//qeEAAzvsH+eUqVufebWHxEAAAAQAZ7gakK/AAqDchh9ASDuCAAAABlBmuJJ4Q6JlMCG//6nhAAId8dPqONCQ+LBAAAAEUGbBknhDyZTAhv//qeEAAEnAAAAEkGfJEURPC//AAVDFRu/T1ANoQAAAA8Bn0N0Qr8ABxYw8oaBnFEAAAAPAZ9FakK/AAcUH9UigSxRAAAAGkGbR0moQWiZTAhv//6nhAAIagCzbbPs+fPBAAAAEUGba0nhClJlMCG//qeEAAEnAAAAE0GfiUU0TC//AAeXdvosV3Fo/LoAAAAQAZ+odEK/AArPQDnbHGnGIQAAABABn6pqQr8ACs0o3mmKtszAAAAAGkGbrEmoQWiZTAhv//6nhAAId8dPqONCQ+LAAAAAIEGb0EnhClJlMCGf/p4QADY+yOrzLLPn2xNvuye2mXEVAAAAFEGf7kU0TC//AAguedmTKN9+AJGRAAAADwGeDXRCvwAHFjDyhoGcUQAAABABng9qQr8AC12EeTA9fEOAAAAAGUGaEUmoQWiZTAhn//6eEABT+DHP4c5vrlMAAAAYQZoySeEKUmUwIZ/+nhAAfspxz+HOb62vAAAAGEGaU0nhDomUwIb//qeEACDfHTH+H1bceQAAABlBmnRJ4Q8mUwIb//6nhAAf332Y/w+rbkGAAAAAGUGalUnhDyZTAh3//qmWABiqkGaAPSX2EVEAAAAZQZq4SeEPJlMCHf/+qZYAGM9peFqCf2BGwAAAABJBntZFETwr/wA8z8DoSWFrbMEAAAAOAZ73akK/ADzBAswcDocAAAAdQZr8SahBaJlMCG///qeEAC/+wf5a6QatmKEihHcAAAAQQZ8aRREsL/8AHE/ZVFdrYQAAAA8Bnzl0Qr8AJq7KFJtkq1sAAAAPAZ87akK/ACW2td33e/jBAAAAEkGbIEmoQWyZTAhv//6nhAABJwAAABNBn15FFSwv/wAR3jPymY+YiKxlAAAAEAGffXRCvwAZJ5N5Wyh6n8AAAAAQAZ9/akK/ABkgWNe80rOyQQAAABpBm2FJqEFsmUwIb//+p4QALn6J/qt8x+JHwAAAACxBm4RJ4QpSZTAhn/6eEAGn9kDl5llc94+ZYlgvmWTYOAvXUL+b6T+zZu/QQQAAABNBn6JFNEwr/wBYrHm6c1thIxYEAAAAEAGfw2pCvwBYrHjlf24feUEAAAAZQZvFSahBaJlMCGf//p4QAovBjn6MB2Z+pwAAABtBm+ZJ4QpSZTAhv/6nhAD8nGf6rfVQIT+6XpEAAAAZQZoHSeEOiZTAhv/+p4QBrmif6h8GkKSggQAAACFBmitJ4Q8mUwIb//6nhAWMVqmP9ILT/vWf+rnZ2iFRyVMAAAAVQZ5JRRE8L/8Bh+51FF9FjEWePpJwAAAAEAGeaHRCvwHsRLuOxZifDPkAAAAPAZ5qakK/AgthHkuZ7ukPAAAAHEGabUmoQWiZTBTw3/6nhAWMVpBWzaTXQn4uLKAAAAAQAZ6MakK/AgrcUh9ASDSO6QAAABxBmo5J4QpSZTAhv/6nhAHrvv7ftjnQUI0/YzZdAAAAG0GasUnhDomUwIZ//p4QB65nHHvVsYYhS83HHQAAABBBns9FETwr/wFsa2/NDZbQAAAAEAGe8GpCvwFspRvgPA/LPVgAAAAZQZrySahBaJlMCG///qeEAgUvaOaZ1GxZQQAAAB9BmxRJ4QpSZTBREsM//p4QFivdcRz8s+fEBTP3zjegAAAAEAGfM2pCvwIe7ahuM+vPDAgAAAAaQZs1SeEOiZTAhv/+p4QGTPmtfU7KowRMMWEAAAAZQZtWSeEPJlMCG//+p4QFs40/XGFCQRzpgAAAACFBm3pJ4Q8mUwIZ//6eEBimVjgxuUK8yyr/uvtxmf4lRd0AAAARQZ+YRRE8L/8Bo59iy8zPraEAAAAPAZ+3dEK/AWPLBg2Y4kmjAAAADwGfuWpCvwIylbGDt7ZQwQAAABpBm7tJqEFomUwIZ//+nhAHwdJyinwX8G8WUAAAABdBm9xJ4QpSZTAhn/6eEAexQrrWzf+HzQAAABlBm/1J4Q6JlMCG//6nhAEkHzHkZTQ/o1knAAAAGEGaHknhDyZTAhv//qeEASwfMcb/xXK5xwAAAB9BmiBJ4Q8mUwURPDf//qeEAmEVqmP5cYuvy1xP28k4AAAAEAGeX2pCvwGJdU8mB69s1IEAAAAgQZpESeEPJlMCG//+p4QLQ/CjWYVby45XOSiBO/6EjUgAAAAQQZ5iRRE8L/8B6faEV18rYQAAABABnoF0Qr8CkkAc7YxNqkrAAAAADwGeg2pCvwKP5ogx06CimwAAABlBmoVJqEFomUwIb//+p4QLQ+/z0wvnhYPTAAAAHEGap0nhClJlMFESw3/+p4QLTli/ltUyE+3I4IEAAAAQAZ7GakK/ApBYKpvpIKwyoQAAABJBmslJ4Q6JlMFEw3/+p4QAAScAAAAPAZ7oakK/AZOxA8mCLKSAAAAAEkGa60nhDyZTBTw3//6nhAABJwAAAD8BnwpqQr8BlMXf/4hAeP1Xk6KCee+OI31UjBlYBzifwarj0w+lJR+YflxaTmzCMhccevJqgt+ATABTmnF7spIAAAASQZsNSeEPJlMFPDf//qeEAAEnAAAAPwGfLGpCvwGUxd//iEB4/VeTooJ5744jfVSMGVgHOJ/BquPTD6UlH5h+XFpObMIyFxx68mqC34BMAFOacXuykwAAABJBmy9J4Q8mUwU8N//+p4QAAScAAAA/AZ9OakK/AZTF3/+IQHj9V5OignnvjiN9VIwZWAc4n8Gq49MPpSUfmH5cWk5swjIXHHryaoLfgEwAU5pxe7KTAAAAEkGbUUnhDyZTBTw3//6nhAABJwAAAD8Bn3BqQr8BlMXf/4hAeP1Xk6KCee+OI31UjBlYBzifwarj0w+lJR+YflxaTmzCMhccevJqgt+ATABTmnF7spIAAAASQZtzSeEPJlMFPDf//qeEAAEnAAAAPwGfkmpCvwGUxd//iEB4/VeTooJ5744jfVSMGVgHOJ/BquPTD6UlH5h+XFpObMIyFxx68mqC34BMAFOacXuykgAAABJBm5VJ4Q8mUwU8N//+p4QAAScAAAA/AZ+0akK/AZTF3/+IQHj9V5OignnvjiN9VIwZWAc4n8Gq49MPpSUfmH5cWk5swjIXHHryaoLfgEwAU5pxe7KTAAAAEkGbt0nhDyZTBTw3//6nhAABJwAAAD8Bn9ZqQr8BlMXf/4hAeP1Xk6KCee+OI31UjBlYBzifwarj0w+lJR+YflxaTmzCMhccevJqgt+ATABTmnF7spMAAAASQZvZSeEPJlMFPDf//qeEAAEnAAAAPwGf+GpCvwGUxd//iEB4/VeTooJ5744jfVSMGVgHOJ/BquPTD6UlH5h+XFpObMIyFxx68mqC34BMAFOacXuykgAAAJBBm/pJ4Q8mUwId//6plgFIHQzfM//CH2FXIXjd0UmjgaE0GNlMfe55tFqBc8IStQ/p+z1UKQO3CI/RX/4Sd0wq+C68hnkjU0kqULWnck22vysj7ZfMquPLOLhUG0pNz1adBnhQ2kfULllUvcP/4uLqGmktsIUkEwWiKsn/ySMIPVktx9reYnAL0HSwvrYQkb0AAAASQZoeSeEPJlMCHf/+qZYAAJWAAAAADEGePEURPC//AACygQAAABABnlt0Qr8CkkAdCHDkGyRhAAAADwGeXWpCvwGTrKGheo2UkAAAABZBmkJJqEFomUwIb//+p4QM61pBQ0EPAAAAFEGeYEURLC//AgDedM4rVuLXUVUxAAAAEAGen3RCvwKv0aID6Pg4SMAAAAAPAZ6BakK/Aq5WXIaQ70NbAAAAHUGahEmoQWyZTBRMN//+p4QCad1P1PaW0wfzngiYAAAAEAGeo2pCvwGJJbTrwBP5OIEAAAAcQZqmSeEKUmUwUsN//qeEASwfNU1m3NeOn2rNqQAAABABnsVqQr8A8rPmN0OSDif5AAAAGEGayUnhDomUwIZ//p4QBJfiHnW6BkhlNQAAAA9BnudFFTwr/wDygrhrQcAAAAANAZ8IakK/APLX4wpaDgAAABlBmwpJqEFomUwIb//+p4QBJfo5oK1mU1knAAAAHUGbLEnhClJlMFESw3/+p4QBHfjp9qvNqiMjIDTcAAAAEAGfS2pCvwDnhAJ14An82YAAAAAcQZtOSeEOiZTBRMM//p4QAdH19/TZQuXWzVsekQAAABABn21qQr8AYgjtzrQwvHtBAAAAGEGbb0nhDyZTAhv//qeEAEu+OmP8Pq23TQAAABlBm5BJ4Q8mUwIb//6nhABxDjP9VvmPxDpgAAAAIUGbsknhDyZTBRE8N//+p4QAsIA1HY5cXGy9OVhif3wxYAAAABABn9FqQr8AjvTruH2zaQgRAAAAIUGb1EnhDyZTBTw7//6plgDmdhvmWWfPtvNpGZ31S7zoYAAAABABn/NqQr8BUbHjlf24fN3AAAAAEkGb+EnhDyZTAh3//qmWAACVgQAAABNBnhZFETwv/wGVHzpnFcT2JnZUAAAADwGeNXRCvwIfIsq8BU67NwAAABABnjdqQr8CHkdudZ44MmtBAAAAGUGaOUmoQWiZTAhX//44QBoezv2U+zrStCAAAAHrZYiCAAQ//vdKfMstkP7/y2f/xh/8Lf7X/Zry7WzeIYVmQgKojCd/5qX6kWqW0jEW8tYGCQhlcOEb3/fiTboDYJvgJ5Bo5f75z+BTYUcW+BStnAJ4KE4kw1KOI28+G0M+BRD03cXE9l1p165DcMoAFid85vBWlhb1fBFd4xDKPL53BxJLU1Nlec6uAsfvp3S4MKwu32ADQFiF6OK9MaUcBJNsTj0nUWg9gKBPdJnLfylr5VMHP3JLLGdcgnjzgaSEugTG3i7dJ5W2QoR7XseeBaJW8OR0UA/XecrrbHdhEWABXIHwzRpgvulFqibBOhRLSfWXeRpbTKr6LmBZVLiciszgMqWAr0AIqIf9aU64S1SraAls6V3wDkyf8aO5e4LwNQQvV0/+c4WJICqX0gnB10rjPk5vh5mt9yHlh/I8nLy6f1TKQcx3R1htOqWxCW4Fw09FKTS9MSPGStxlAZ1JfsEzv2BMUeTAiOXKCNECmDwaLBpi4Em9DYbVwkQNNIMHN3LLWGVnEQBCkkuoDSvR+CwMUTZXMZ7EdZ7eWBUUCxeqVg1bJWLtGWoxry53Ck4Cad9EIpWs3W8k+2FrlHMmOZER08ptsrsZlZATEo5GWkQ76xiale6kGdkfzq2pN1sBnWHA23iDHxAAH+EAAAAWQZoibEN//qeEBimA4sanLd6J+UhdwAAAAA8BnkF5Cv8CHyA8mBU9dm8AAAAaQZpEPCGTKYQ3//6nhAZXfZ9D2+HFkKQQKaEAAAAQAZ5jakK/AjLNzXHgzZlTQAAAABdBmmZJ4Q8mUwU8O//+qZYAjP0c/JFDwAAAAA8BnoVqQr8BY+VgXX9+ycEAAAARQZqKSeEPJlMCG//+p4QAAScAAAAMQZ6oRRE8L/8AALKBAAAADwGex3RCvwFstHdHbfCo/wAAAA8BnslqQr8BbFGiC1Hl0b0AAAAaQZrLSahBaJlMCHf//qmWAQVRzrQ9X22EpIEAAAAfQZrvSeEKUmUwId/+qZYEeCzFpme6eqgcP3VH4WxdwQAAABRBnw1FNEwv/wHDqzEOkLunXJ4WTwAAABABnyx0Qr8BdbR3lbKHo3hAAAAAEAGfLmpCvwJezvAr+0T5bMAAAAAcQZsxSahBaJlMFPDv/qmWBJ+FH0wrUC0Uw5QScQAAABABn1BqQr8Cdh4Ncd+LK7egAAAAG0GbVUnhClJlMCHf/qmWBd2dECzPdTdpfXGXcAAAABVBn3NFNEwv/wHqnRE3uVyJG829JeEAAAAPAZ+SdEK/AZOQ/G9QRrG9AAAAEAGflGpCvwKRaBO6HJBWGVEAAAATQZuZSahBaJlMCHf//qmWAACVgAAAAAxBn7dFESwv/wAAsoAAAAAQAZ/WdEK/AoNi3XcA+3BWwQAAABABn9hqQr8Cg2Lda/H24K2AAAAAE0Gb3UmoQWyZTAh3//6plgAAlYAAAAAMQZ/7RRUsL/8AALKBAAAAEAGeGnRCvwKDYt13APtwVsAAAAAQAZ4cakK/AoNi3Wvx9uCtgQAAABNBmgFJqEFsmUwId//+qZYAAJWBAAAADEGeP0UVLC//AACygAAAABABnl50Qr8Cg2LddwD7cFbBAAAAEAGeQGpCvwKDYt1r8fbgrYAAAAATQZpFSahBbJlMCHf//qmWAACVgQAAAAxBnmNFFSwv/wAAsoEAAAAQAZ6CdEK/AoNi3XcA+3BWwAAAABABnoRqQr8Cg2Lda/H24K2AAAAAGkGaiEmoQWyZTAh3//6plgYfRz7KMhS/mH+BAAAAEUGepkUVLCv/Aq80bzTPyKIOAAAADgGex2pCvwKuUY7/VIg5AAAAE0GazEmoQWyZTAh3//6plgAAlYAAAAATQZ7qRRUsL/8BHvQQTc365DQdXQAAAA8Bnwl0Qr8BiQD4pNslUQ8AAAAQAZ8LakK/AYl1TyYHr2zUgQAAABNBmxBJqEFsmUwId//+qZYAAJWBAAAAEEGfLkUVLC//AR70EFTZBi4AAAAPAZ9NdEK/AYkA+KTbJVEPAAAAEAGfT2pCvwGJdU8mB69s1IEAAAAZQZtUSahBbJlMCHf//qmWATfvq+yRAMbrjgAAABBBn3JFFSwv/wEez9m4IDFwAAAADwGfkXRCvwGJSanqzvpTQQAAABABn5NqQr8BiSO3OtDC8NtBAAAAEkGbmEmoQWyZTAhv//6nhAABJwAAABBBn7ZFFSwv/wEe9BBU2QYuAAAAEAGf1XRCvwGJkWVeBFds1IAAAAAPAZ/XakK/AYklpUigSqIfAAAAGkGb2UmoQWyZTAh3//6plgEj8gzPzuY+7jjgAAAAEkGb/UnhClJlMCHf/qmWAACVgAAAABJBnhtFNEwv/wHq4qxWzZxrmpEAAAAPAZ46dEK/ApHNUDpuX5EPAAAAEAGePGpCvwKQT5zrM/BOvYEAAAATQZohSahBaJlMCHf//qmWAACVgQAAABNBnl9FESwv/wEW9BFKR0zliz6CAAAAEAGefnRCvwGJeTeVsoejcsEAAAAQAZ5gakK/AX924TcZ9emoeAAAABNBmmVJqEFsmUwId//+qZYAAJWBAAAAEEGeg0UVLC//ARb0EWOAn0EAAAAQAZ6idEK/AYl5N5Wyh6NywAAAABABnqRqQr8Bf3bhNxn16ah4AAAAE0GaqUmoQWyZTAh3//6plgAAlYEAAAAQQZ7HRRUsL/8BFvQRY4CfQQAAABABnuZ0Qr8BiXk3lbKHo3LBAAAAEAGe6GpCvwF/duE3GfXpqHgAAAATQZrtSahBbJlMCHf//qmWAACVgQAAABNBnwtFFSwv/wHpu3TOK2bQSqrZAAAADwGfKnRCvwKRzVA6bl+RDwAAABABnyxqQr8CkE+c6zPwTr2BAAAAE0GbMUmoQWyZTAh3//6plgAAlYAAAAATQZ9PRRUsL/8BFvQRSkdM5Ys+ggAAABABn250Qr8BiXk3lbKHo3LBAAAAEAGfcGpCvwF/duE3GfXpqHgAAAAcQZt1SahBbJlMCG///qeECKatmJ/p2vRP79BJwAAAABVBn5NFFSwv/wHDq51xLO130WVvsPEAAAAPAZ+ydEK/AX8A+KTbJVEXAAAAEAGftGpCvwJezvAr+0T5bMEAAAAaQZu3SahBbJlMFEw7//6plgSfhR9MPqARRZQAAAAQAZ/WakK/Al4Q3r30kFYakAAAABJBm9tJ4QpSZTAh3/6plgAAlYEAAAATQZ/5RTRML/8BFvQRSkdM5Ys+ggAAABABnhh0Qr8BiXk3lbKHo3LAAAAAEAGeGmpCvwF/duE3GfXpqHkAAAASQZofSahBaJlMCG///qeEAAEnAAAAEEGePUURLC//ARb0EWOAn0EAAAAQAZ5cdEK/AYl5N5Wyh6NywQAAABABnl5qQr8Bf3bhNxn16ah4AAAAGkGaQUmoQWyZTBRMO//+qZYBJ++r7U2dGWbNAAAAEAGeYGpCvwGJZua48VbRuWAAAAAaQZpkSeEKUmUwId/+qZYAnPyOohwtQT+wBaUAAAASQZ6CRTRMK/8A+AMAgFMA4/ZhAAAADgGeo2pCvwD4V+ke59n+AAAAHEGaqEmoQWiZTAhv//6nhAIhjNU1m2keOn2MG9AAAAAQQZ7GRREsL/8BDs/c4WT6SQAAAA8BnuV0Qr8A8pfi4D8tDsAAAAAQAZ7nakK/AXWyITcZ9emouQAAAB1BmupJqEFsmUwUTDv//qmWBRtUC0SbNRejHoTOOAAAABABnwlqQr8CdjweTAm7nO6BAAAAG0GbDknhClJlMCHf/qmWBUtmPyObUC0Uw5QR8QAAABBBnyxFNEwv/wHWnRH2Be35AAAADgGfS3RCvwKRcd55v6GVAAAAEAGfTWpCvwJ1bag+gJBWGfAAAAAcQZtQSahBaJlMFPDv/qmWATfvq+yQ1OoQbgwFVAAAAA8Bn29qQr8BiSWlSKBKoh8AAAASQZt0SeEKUmUwId/+qZYAAJWAAAAADEGfkkU0TC//AACygAAAABABn7F0Qr8A8ChvZdV/AdnBAAAADwGfs2pCvwD384aJXPLpQQAAABNBm7hJqEFomUwId//+qZYAAJWBAAAAFEGf1kURLC//AR6PnTOK6e8PzWxoAAAAEAGf9XRCvwGJkWVeBFds1IAAAAAPAZ/3akK/AYklpUigSqIfAAAAE0Gb/EmoQWyZTAh3//6plgAAlYAAAAAQQZ4aRRUsL/8BHvQQVNkGLgAAABABnjl0Qr8BiZFlXgRXbNSBAAAADwGeO2pCvwGJJaVIoEqiHgAAABNBmiBJqEFsmUwId//+qZYAAJWBAAAAEEGeXkUVLC//AR70EFTZBi8AAAAQAZ59dEK/AYmRZV4EV2zUgAAAAA8Bnn9qQr8BiSWlSKBKoh8AAAASQZpkSahBbJlMCG///qeEAAEnAAAAEEGegkUVLC//AR70EFTZBi8AAAAQAZ6hdEK/AYmRZV4EV2zUgQAAAA8BnqNqQr8BiSWlSKBKoh4AAAAaQZqlSahBbJlMCHf//qmWASPyDM/O5j7uOOAAAAASQZrJSeEKUmUwId/+qZYAAJWBAAAAEkGe50U0TC//AerirFbNnGuakAAAAA8BnwZ0Qr8Ckc1QOm5fkQ8AAAAQAZ8IakK/ApBPnOsz8E69gAAAABNBmw1JqEFomUwId//+qZYAAJWBAAAAE0GfK0URLC//ARb0EUpHTOWLPoMAAAAQAZ9KdEK/AYl5N5Wyh6NywQAAABABn0xqQr8Bf3bhNxn16ah5AAAAHkGbT0moQWyZTBRMO//+qZYBS4eQLRQiW90Y+AKmLAAAABABn25qQr8Bk3VPJcz5JLiAAAAAGEGbc0nhClJlMCHf/qmWAUztL+f0VxN1vQAAABVBn5FFNEwv/wHqff6LFbpNdnkE3ZgAAAAQAZ+wdEK/ArBAHO2MTapIwAAAAA8Bn7JqQr8CkFaGB01I5Z8AAAATQZu3SahBaJlMCHf//qmWAACVgQAAABNBn9VFESwv/wEWj59Fiu4tHz6DAAAAEAGf9HRCvwF/k0InxZijUPAAAAAQAZ/2akK/AYlm5rjxVtG5YAAAABNBm/tJqEFsmUwId//+qZYAAJWBAAAAEEGeGUUVLC//ARb0EWOAn0EAAAAQAZ44dEK/AX+TQifFmKNQ8AAAABABnjpqQr8BiWbmuPFW0blhAAAAE0GaP0moQWyZTAh3//6plgAAlYAAAAAQQZ5dRRUsL/8BFvQRY4CfQQAAABABnnx0Qr8Bf5NCJ8WYo1DxAAAAEAGefmpCvwGJZua48VbRuWAAAAAeQZpjSahBbJlMCHf//qmWAUcKgWiTa0hj3Nl3hkfBAAAAFEGegUUVLC//ASbPtvBNXdOuTwupAAAAEAGeoHRCvwD+3HeVsoejr4EAAAAQAZ6iakK/AZN2o5X9uHzNwQAAABpBmqVJqEFsmUwUTDv//qmWAUztL+f0VxN1vQAAABABnsRqQr8BkyO3OtDC8NlAAAAAG0GayUnhClJlMCHf/qmWASOlnKDM/pdpf1lmzQAAABBBnudFNEwv/wEWoDl5E+ggAAAAEAGfBnRCvwF/k0InxZijUPEAAAAPAZ8IakK/AYkFjYHKbKmAAAAAGUGbDUmoQWiZTAh3//6plgEn76vtTj1GWbMAAAAQQZ8rRREsL/8BFs/c4WT6CQAAAA8Bn0p0Qr8BiXk3nnFoz4EAAAAQAZ9MakK/AYlm5rjxVtG5YQAAABJBm1FJqEFsmUwIb//+p4QAAScAAAAQQZ9vRRUsL/8BFvQRY4CfQQAAABABn450Qr8Bf5NCJ8WYo1DxAAAAEAGfkGpCvwGJZua48VbRuWAAAAAaQZuSSahBbJlMCHf//qmWAJz8edLOjqeRP8AAAAAaQZu2SeEKUmUwId/+qZYBNCHCTbSXx584FVEAAAAUQZ/URTRML/8BHs/ZrXwbiy2s4+EAAAAQAZ/zdEK/APJxZnlfkpstSQAAABABn/VqQr8BiXajlf24fNBAAAAAE0Gb+kmoQWiZTAh3//6plgAAlYAAAAATQZ4YRREsL/8BHvQRSkdM5Ys+bwAAABABnjd0Qr8Bk3k3lbKHo2/AAAAAEAGeOWpCvwGJduE3GfXpqDgAAAATQZo+SahBbJlMCHf//qmWAACVgQAAABBBnlxFFSwv/wEe9BFjgJ83AAAAEAGee3RCvwGTeTeVsoejb8EAAAAQAZ59akK/AYl24TcZ9emoOQAAABxBmmJJqEFsmUwId//+qZYBN++r7JDU6hBuDAVUAAAAEEGegEUVLC//AR7P2bggMXEAAAAPAZ6/dEK/AYlJRCmCLKmAAAAADwGeoWpCvwGJJaVIoEqiHwAAABJBmqZJqEFsmUwIb//+p4QAAScAAAATQZ7ERRUsL/8BDo+fRYruLR8+kgAAABABnuN0Qr8Bdc0SJ8WYo1FwAAAAEAGe5WpCvwF1bkMPoCQcStkAAAAaQZrnSahBbJlMCHf//qmWAJwUc60PV98hP8AAAAASQZsLSeEKUmUwId/+qZYAAJWBAAAAE0GfKUU0TC//ALpktymY+YiKsh4AAAAQAZ9IdEK/AP7cd5Wyh6OvgQAAABABn0pqQr8A+DPmN0OSDifNAAAAE0GbT0moQWiZTAh3//6plgAAlYEAAAAQQZ9tRREsL/8AumS3P1xFSQAAABABn4x0Qr8A9/FmeV+Smyz4AAAAEAGfjmpCvwD+eaJkTSs2fMAAAAASQZuTSahBbJlMCG///qeEAAEnAAAAE0GfsUUVLC//ARaPn0WK7i0fPoIAAAAQAZ/QdEK/AX+TQifFmKNQ8AAAABABn9JqQr8BiWbmuPFW0blhAAAAEkGb10moQWyZTAhv//6nhAABJwAAABBBn/VFFSwv/wEW9BFjgJ9BAAAAEAGeFHRCvwF/k0InxZijUPAAAAAQAZ4WakK/AYlm5rjxVtG5YAAAABpBmhhJqEFsmUwIb//+p4QBNfjp9RxoSHBWwQAAABxBmjpJ4QpSZTBRUsN//qeEAMj7B/mrpoyMdNWwAAAAEAGeWWpCvwCjtuRV4An9GoAAAAAcQZpcSeEOiZTBRMN//qeEAFR91P3MjC2YoRy+pQAAAA8BnntqQr8AQ2VulGkPFEYAAAAcQZp+SeEPJlMFPDf//qeEADT+wf55BWqZCRb52QAAABABnp1qQr8AKy3IYfQEg5O5AAAAGEGagknhDyZTAhv//qeEADS2oPb3U/aw7AAAABVBnqBFETwv/wAfFOozicdrvosrlk0AAAAQAZ7fdEK/ABxOJ4pNslXpgAAAABABnsFqQr8AKzY8cr+3D+tBAAAAHEGaxEmoQWiZTBTw3/6nhABPcVsxP9Xb3U/avQkAAAAQAZ7jakK/AD+M+Y3Q5IOPpAAAABtBmuVJ4QpSZTAh3/6plgA9CZCTcOEINn9gIIAAAAAeQZsJSeEOiZTAhv/+p4QAvvupx/ia41RCB48fyxBxAAAAEEGfJ0URPC//AHE+87q8Hx4AAAAPAZ9GdEK/AJsIA6E5LwbBAAAAEAGfSGpCvwCavNEyJpWbakAAAAAaQZtKSahBaJlMCHf//qmWAF499X12INxT+pEAAAAaQZtuSeEKUmUwIb/+p4QAvgA1IMy30T9CgcEAAAAQQZ+MRTRML/8AcVOnf5u/WQAAAA8Bn6t0Qr8AYhJqerO+00EAAAAPAZ+takK/AJrsR5MD17cHAAAAGkGbsUmoQWiZTAhv//6nhAEkQBZttn2fNE3AAAAAEkGfz0URLCv/AO0z5lvDcg4oOQAAABABn/BqQr8A8nOGveaVm0HAAAAAGkGb8kmoQWyZTAhv//6nhAIiEFm2STT9MIuAAAAAEUGaFknhClJlMCG//qeEAAEnAAAADEGeNEU0TC//AACygQAAABABnlN0Qr8CX2KxejQON5mBAAAADwGeVWpCvwF/BY0SueXRqQAAABlBmllJqEFomUwIZ//+nhAIhU4/ngv3/YoIAAAAEkGed0URLCv/Al78DokHCv+GpQAAAA8BnphqQr8CXhDew0CsNSAAAAGIZYiEADv//vb8/AptUwn/LZ/+iL/lb+9P2a61uFE7M7QacwPQC/3cd/Xi1bCrc27LcdG8bJkAU3Roif7wCeTfH14tr4b4FM1tdvgUSqOInN4UcThqeMlTUMU/GkYALcDjMChOXoPvn7/NJ1EwCxLAjsftJPg1sBHG3cihRsHp4jD4SdRkqqKJCuD3rF8pTZwsIzJx1oCGUBE52G1rwZ8ZEgtC3h/41T4LLPsGb5+TcVap5kWgaW61k7xbzoAjCTZhzCZA4b08iXjPbmD5Nk1psI/OdoT6/dFp5N2HqvW1VleBxxye43z2J2hDBtPUmBRjWRyh5HFK3bPQmnHt+aHn3r9DBVGPoffyfJPpmIgHddAADmmBVZaMAbyFyE6qs1Sw9RWDozSkJk3Q4+wdBbd1MBBlGF27Kzq20UG9yIZjNh0vp/3jyzsg3CbmrLxaL4rgOb/CDNdAeLNBTLCf8reuSUmFhiMI9W79UI/YhC8bWBmuFBMRcR34851R/abq4U/CeVMtZ+gAJiAAAAATQZohaIwQUA/kA/kK//44QAARcQAAGQhtb292AAAAbG12aGQAAAAAAAAAAAAAAAAAAAPoAABOcAABAAABAAAAAAAAAAAAAAAAAQAAAAAAAAAAAAAAAAAAAAEAAAAAAAAAAAAAAAAAAEAAAAAAAAAAAAAAAAAAAAAAAAAAAAAAAAAAAAAAAAACAAAYMnRyYWsAAABcdGtoZAAAAAMAAAAAAAAAAAAAAAEAAAAAAABOcAAAAAAAAAAAAAAAAAAAAAAAAQAAAAAAAAAAAAAAAAAAAAEAAAAAAAAAAAAAAAAAAEAAAAABEAAAARAAAAAAACRlZHRzAAAAHGVsc3QAAAAAAAAAAQAATnAAAAQAAAEAAAAAF6ptZGlhAAAAIG1kaGQAAAAAAAAAAAAAAAAAADIAAAPsAFXEAAAAAAAtaGRscgAAAAAAAAAAdmlkZQAAAAAAAAAAAAAAAFZpZGVvSGFuZGxlcgAAABdVbWluZgAAABR2bWhkAAAAAQAAAAAAAAAAAAAAJGRpbmYAAAAcZHJlZgAAAAAAAAABAAAADHVybCAAAAABAAAXFXN0YmwAAACVc3RzZAAAAAAAAAABAAAAhWF2YzEAAAAAAAAAAQAAAAAAAAAAAAAAAAAAAAABEAEQAEgAAABIAAAAAAAAAAEAAAAAAAAAAAAAAAAAAAAAAAAAAAAAAAAAAAAAAAAAAAAY//8AAAAvYXZjQwH0AA3/4QAXZ/QADZGbKCIR0IAAAAMAgAAAGQeKFMsBAAVo6+PESAAAABhzdHRzAAAAAAAAAAEAAAH2AAACAAAAABxzdHNzAAAAAAAAAAMAAAABAAAA+wAAAfUAAA4oY3R0cwAAAAAAAAHDAAAAAwAABAAAAAABAAAGAAAAAAEAAAIAAAAAAQAABAAAAAABAAAKAAAAAAEAAAQAAAAAAQAAAAAAAAABAAACAAAAAAEAAAoAAAAAAQAABAAAAAABAAAAAAAAAAEAAAIAAAAAAQAACgAAAAABAAAEAAAAAAEAAAAAAAAAAQAAAgAAAAABAAAKAAAAAAEAAAQAAAAAAQAAAAAAAAABAAACAAAAAAEAAAoAAAAAAQAABAAAAAABAAAAAAAAAAEAAAIAAAAAAQAACAAAAAACAAACAAAAAAcAAAQAAAAAAQAABgAAAAABAAACAAAAAAUAAAQAAAAAAQAACgAAAAABAAAEAAAAAAEAAAAAAAAAAQAAAgAAAAABAAAGAAAAAAEAAAIAAAAABAAABAAAAAABAAAKAAAAAAEAAAQAAAAAAQAAAAAAAAABAAACAAAAAAMAAAQAAAAAAQAACAAAAAACAAACAAAAAAEAAAoAAAAAAQAABAAAAAABAAAAAAAAAAEAAAIAAAAAAgAABAAAAAABAAAGAAAAAAEAAAIAAAAAAwAABAAAAAABAAAGAAAAAAEAAAIAAAAAAQAABAAAAAABAAAKAAAAAAEAAAQAAAAAAQAAAAAAAAABAAACAAAAAAEAAAgAAAAAAgAAAgAAAAABAAAIAAAAAAIAAAIAAAAAAQAACgAAAAABAAAEAAAAAAEAAAAAAAAAAQAAAgAAAAACAAAEAAAAAAEAAAoAAAAAAQAABAAAAAABAAAAAAAAAAEAAAIAAAAAAgAABAAAAAABAAAKAAAAAAEAAAQAAAAAAQAAAAAAAAABAAACAAAAAAEAAAoAAAAAAQAABAAAAAABAAAAAAAAAAEAAAIAAAAAAQAABgAAAAABAAACAAAAAAEAAAgAAAAAAgAAAgAAAAABAAAGAAAAAAEAAAIAAAAABAAABAAAAAABAAAGAAAAAAEAAAIAAAAAAQAABgAAAAABAAACAAAAAAEAAAQAAAAAAQAACgAAAAABAAAEAAAAAAEAAAAAAAAAAQAAAgAAAAABAAAEAAAAAAEAAAYAAAAAAQAAAgAAAAABAAAEAAAAAAEAAAoAAAAAAQAABAAAAAABAAAAAAAAAAEAAAIAAAAAAQAABAAAAAABAAAKAAAAAAEAAAQAAAAAAQAAAAAAAAABAAACAAAAAAEAAAQAAAAAAQAACgAAAAABAAAEAAAAAAEAAAAAAAAAAQAAAgAAAAAFAAAEAAAAAAEAAAgAAAAAAgAAAgAAAAABAAAKAAAAAAEAAAQAAAAAAQAAAAAAAAABAAACAAAAAAEAAAoAAAAAAQAABAAAAAABAAAAAAAAAAEAAAIAAAAAAQAABAAAAAABAAAIAAAAAAIAAAIAAAAAAwAABAAAAAABAAAKAAAAAAEAAAQAAAAAAQAAAAAAAAABAAACAAAAAAEAAAYAAAAAAQAAAgAAAAABAAAEAAAAAAEAAAgAAAAAAgAAAgAAAAABAAAEAAAAAAEAAAYAAAAAAQAAAgAAAAACAAAEAAAAAAEAAAoAAAAAAQAABAAAAAABAAAAAAAAAAEAAAIAAAAABAAABAAAAAABAAAGAAAAAAEAAAIAAAAAAQAACgAAAAABAAAEAAAAAAEAAAAAAAAAAQAAAgAAAAABAAAEAAAAAAEAAAYAAAAAAQAAAgAAAAABAAAGAAAAAAEAAAIAAAAAAQAABgAAAAABAAACAAAAAAEAAAYAAAAAAQAAAgAAAAABAAAGAAAAAAEAAAIAAAAAAQAABgAAAAABAAACAAAAAAEAAAYAAAAAAQAAAgAAAAABAAAGAAAAAAEAAAIAAAAAAQAABgAAAAABAAACAAAAAAEAAAYAAAAAAQAAAgAAAAABAAAEAAAAAAEAAAoAAAAAAQAABAAAAAABAAAAAAAAAAEAAAIAAAAAAQAACgAAAAABAAAEAAAAAAEAAAAAAAAAAQAAAgAAAAABAAAGAAAAAAEAAAIAAAAAAQAABgAAAAABAAACAAAAAAEAAAgAAAAAAgAAAgAAAAABAAAEAAAAAAEAAAYAAAAAAQAAAgAAAAABAAAGAAAAAAEAAAIAAAAAAgAABAAAAAABAAAGAAAAAAEAAAIAAAAAAQAABgAAAAABAAACAAAAAAEAAAoAAAAAAQAABAAAAAABAAAAAAAAAAEAAAIAAAAAAgAABAAAAAABAAAGAAAAAAEAAAIAAAAAAQAABgAAAAABAAACAAAAAAEAAAYAAAAAAQAAAgAAAAABAAAKAAAAAAEAAAQAAAAAAQAAAAAAAAABAAACAAAAAAEAAAQAAAAAAQAACgAAAAABAAAEAAAAAAEAAAAAAAAAAQAAAgAAAAABAAAGAAAAAAEAAAIAAAAAAQAACgAAAAABAAAEAAAAAAEAAAAAAAAAAQAAAgAAAAABAAAKAAAAAAEAAAQAAAAAAQAAAAAAAAABAAACAAAAAAEAAAoAAAAAAQAABAAAAAABAAAAAAAAAAEAAAIAAAAAAQAACgAAAAABAAAEAAAAAAEAAAAAAAAAAQAAAgAAAAABAAAKAAAAAAEAAAQAAAAAAQAAAAAAAAABAAACAAAAAAEAAAgAAAAAAgAAAgAAAAABAAAKAAAAAAEAAAQAAAAAAQAAAAAAAAABAAACAAAAAAEAAAoAAAAAAQAABAAAAAABAAAAAAAAAAEAAAIAAAAAAQAACgAAAAABAAAEAAAAAAEAAAAAAAAAAQAAAgAAAAABAAAKAAAAAAEAAAQAAAAAAQAAAAAAAAABAAACAAAAAAEAAAQAAAAAAQAACgAAAAABAAAEAAAAAAEAAAAAAAAAAQAAAgAAAAABAAAKAAAAAAEAAAQAAAAAAQAAAAAAAAABAAACAAAAAAEAAAoAAAAAAQAABAAAAAABAAAAAAAAAAEAAAIAAAAAAQAACgAAAAABAAAEAAAAAAEAAAAAAAAAAQAAAgAAAAABAAAKAAAAAAEAAAQAAAAAAQAAAAAAAAABAAACAAAAAAEAAAoAAAAAAQAABAAAAAABAAAAAAAAAAEAAAIAAAAAAQAACgAAAAABAAAEAAAAAAEAAAAAAAAAAQAAAgAAAAABAAAGAAAAAAEAAAIAAAAAAQAACgAAAAABAAAEAAAAAAEAAAAAAAAAAQAAAgAAAAABAAAKAAAAAAEAAAQAAAAAAQAAAAAAAAABAAACAAAAAAEAAAYAAAAAAQAAAgAAAAABAAAIAAAAAAIAAAIAAAAAAQAACgAAAAABAAAEAAAAAAEAAAAAAAAAAQAAAgAAAAABAAAGAAAAAAEAAAIAAAAAAQAACgAAAAABAAAEAAAAAAEAAAAAAAAAAQAAAgAAAAABAAAGAAAAAAEAAAIAAAAAAQAACgAAAAABAAAEAAAAAAEAAAAAAAAAAQAAAgAAAAABAAAKAAAAAAEAAAQAAAAAAQAAAAAAAAABAAACAAAAAAEAAAoAAAAAAQAABAAAAAABAAAAAAAAAAEAAAIAAAAAAQAACgAAAAABAAAEAAAAAAEAAAAAAAAAAQAAAgAAAAABAAAKAAAAAAEAAAQAAAAAAQAAAAAAAAABAAACAAAAAAEAAAQAAAAAAQAACgAAAAABAAAEAAAAAAEAAAAAAAAAAQAAAgAAAAABAAAKAAAAAAEAAAQAAAAAAQAAAAAAAAABAAACAAAAAAEAAAYAAAAAAQAAAgAAAAABAAAKAAAAAAEAAAQAAAAAAQAAAAAAAAABAAACAAAAAAEAAAoAAAAAAQAABAAAAAABAAAAAAAAAAEAAAIAAAAAAQAACgAAAAABAAAEAAAAAAEAAAAAAAAAAQAAAgAAAAABAAAKAAAAAAEAAAQAAAAAAQAAAAAAAAABAAACAAAAAAEAAAoAAAAAAQAABAAAAAABAAAAAAAAAAEAAAIAAAAAAQAABgAAAAABAAACAAAAAAEAAAoAAAAAAQAABAAAAAABAAAAAAAAAAEAAAIAAAAAAQAACgAAAAABAAAEAAAAAAEAAAAAAAAAAQAAAgAAAAABAAAKAAAAAAEAAAQAAAAAAQAAAAAAAAABAAACAAAAAAEAAAQAAAAAAQAACgAAAAABAAAEAAAAAAEAAAAAAAAAAQAAAgAAAAABAAAKAAAAAAEAAAQAAAAAAQAAAAAAAAABAAACAAAAAAEAAAoAAAAAAQAABAAAAAABAAAAAAAAAAEAAAIAAAAAAQAACgAAAAABAAAEAAAAAAEAAAAAAAAAAQAAAgAAAAABAAAKAAAAAAEAAAQAAAAAAQAAAAAAAAABAAACAAAAAAEAAAQAAAAAAQAACgAAAAABAAAEAAAAAAEAAAAAAAAAAQAAAgAAAAABAAAKAAAAAAEAAAQAAAAAAQAAAAAAAAABAAACAAAAAAEAAAoAAAAAAQAABAAAAAABAAAAAAAAAAEAAAIAAAAAAQAACgAAAAABAAAEAAAAAAEAAAAAAAAAAQAAAgAAAAABAAAEAAAAAAEAAAYAAAAAAQAAAgAAAAABAAAGAAAAAAEAAAIAAAAAAQAABgAAAAABAAACAAAAAAEAAAoAAAAAAQAABAAAAAABAAAAAAAAAAEAAAIAAAAAAQAABgAAAAABAAACAAAAAAEAAAQAAAAAAQAACgAAAAABAAAEAAAAAAEAAAAAAAAAAQAAAgAAAAABAAAEAAAAAAEAAAoAAAAAAQAABAAAAAABAAAAAAAAAAEAAAIAAAAAAQAACAAAAAACAAACAAAAAAEAAAQAAAAAAQAACgAAAAABAAAEAAAAAAEAAAAAAAAAAQAAAgAAAAABAAAIAAAAAAIAAAIAAAAAAgAABAAAAAAcc3RzYwAAAAAAAAABAAAAAQAAAfYAAAABAAAH7HN0c3oAAAAAAAAAAAAAAfYAAAV1AAAAJAAAABwAAAAiAAAAFAAAAB8AAAAWAAAAEAAAABQAAAAUAAAAFwAAABAAAAAUAAAAFAAAABcAAAAQAAAAFAAAABQAAAAWAAAAEAAAABQAAAAUAAAAFgAAABAAAAAUAAAAFAAAAB0AAAATAAAAEQAAAB0AAAAcAAAAHAAAABwAAAAcAAAAHAAAABwAAAAiAAAAFAAAABwAAAAcAAAAHAAAAB0AAAAdAAAALwAAABoAAAATAAAAFAAAACAAAAAUAAAAHAAAABwAAAAeAAAAHQAAACEAAAAVAAAAEwAAABcAAAAeAAAAHQAAABwAAAAuAAAAFgAAABQAAAAiAAAAFQAAABMAAAAUAAAAHQAAAB0AAAAiAAAAFAAAABwAAAAdAAAAHQAAACUAAAAUAAAAHgAAAB0AAAAhAAAAFAAAABQAAAAdAAAAEwAAABEAAAAcAAAAFgAAABQAAAAdAAAAFgAAABMAAAAUAAAAHQAAAB0AAAAVAAAAEAAAABQAAAAUAAAAHgAAAB0AAAAaAAAAEgAAABQAAAAUAAAAIAAAABQAAAATAAAAEwAAACQAAAAUAAAAHwAAABYAAAASAAAAIQAAABQAAAAcAAAAHAAAAB0AAAAeAAAAHAAAABQAAAAWAAAAFAAAAB0AAAAiAAAAFQAAABMAAAAUAAAAHgAAACIAAAAUAAAAHQAAABUAAAAWAAAAEwAAABMAAAAeAAAAFQAAABcAAAAUAAAAFAAAAB4AAAAkAAAAGAAAABMAAAAUAAAAHQAAABwAAAAcAAAAHQAAAB0AAAAdAAAAFgAAABIAAAAhAAAAFAAAABMAAAATAAAAFgAAABcAAAAUAAAAFAAAAB4AAAAwAAAAFwAAABQAAAAdAAAAHwAAAB0AAAAlAAAAGQAAABQAAAATAAAAIAAAABQAAAAgAAAAHwAAABQAAAAUAAAAHQAAACMAAAAUAAAAHgAAAB0AAAAlAAAAFQAAABMAAAATAAAAHgAAABsAAAAdAAAAHAAAACMAAAAUAAAAJAAAABQAAAAUAAAAEwAAAB0AAAAgAAAAFAAAABYAAAATAAAAFgAAAEMAAAAWAAAAQwAAABYAAABDAAAAFgAAAEMAAAAWAAAAQwAAABYAAABDAAAAFgAAAEMAAAAWAAAAQwAAAJQAAAAWAAAAEAAAABQAAAATAAAAGgAAABgAAAAUAAAAEwAAACEAAAAUAAAAIAAAABQAAAAcAAAAEwAAABEAAAAdAAAAIQAAABQAAAAgAAAAFAAAABwAAAAdAAAAJQAAABQAAAAlAAAAFAAAABYAAAAXAAAAEwAAABQAAAAdAAAB7wAAABoAAAATAAAAHgAAABQAAAAbAAAAEwAAABUAAAAQAAAAEwAAABMAAAAeAAAAIwAAABgAAAAUAAAAFAAAACAAAAAUAAAAHwAAABkAAAATAAAAFAAAABcAAAAQAAAAFAAAABQAAAAXAAAAEAAAABQAAAAUAAAAFwAAABAAAAAUAAAAFAAAABcAAAAQAAAAFAAAABQAAAAeAAAAFQAAABIAAAAXAAAAFwAAABMAAAAUAAAAFwAAABQAAAATAAAAFAAAAB0AAAAUAAAAEwAAABQAAAAWAAAAFAAAABQAAAATAAAAHgAAABYAAAAWAAAAEwAAABQAAAAXAAAAFwAAABQAAAAUAAAAFwAAABQAAAAUAAAAFAAAABcAAAAUAAAAFAAAABQAAAAXAAAAFwAAABMAAAAUAAAAFwAAABcAAAAUAAAAFAAAACAAAAAZAAAAEwAAABQAAAAeAAAAFAAAABYAAAAXAAAAFAAAABQAAAAWAAAAFAAAABQAAAAUAAAAHgAAABQAAAAeAAAAFgAAABIAAAAgAAAAFAAAABMAAAAUAAAAIQAAABQAAAAfAAAAFAAAABIAAAAUAAAAIAAAABMAAAAWAAAAEAAAABQAAAATAAAAFwAAABgAAAAUAAAAEwAAABcAAAAUAAAAFAAAABMAAAAXAAAAFAAAABQAAAATAAAAFgAAABQAAAAUAAAAEwAAAB4AAAAWAAAAFgAAABMAAAAUAAAAFwAAABcAAAAUAAAAFAAAACIAAAAUAAAAHAAAABkAAAAUAAAAEwAAABcAAAAXAAAAFAAAABQAAAAXAAAAFAAAABQAAAAUAAAAFwAAABQAAAAUAAAAFAAAACIAAAAYAAAAFAAAABQAAAAeAAAAFAAAAB8AAAAUAAAAFAAAABMAAAAdAAAAFAAAABMAAAAUAAAAFgAAABQAAAAUAAAAFAAAAB4AAAAeAAAAGAAAABQAAAAUAAAAFwAAABcAAAAUAAAAFAAAABcAAAAUAAAAFAAAABQAAAAgAAAAFAAAABMAAAATAAAAFgAAABcAAAAUAAAAFAAAAB4AAAAWAAAAFwAAABQAAAAUAAAAFwAAABQAAAAUAAAAFAAAABYAAAAXAAAAFAAAABQAAAAWAAAAFAAAABQAAAAUAAAAHgAAACAAAAAUAAAAIAAAABMAAAAgAAAAFAAAABwAAAAZAAAAFAAAABQAAAAgAAAAFAAAAB8AAAAiAAAAFAAAABMAAAAUAAAAHgAAAB4AAAAUAAAAEwAAABMAAAAeAAAAFgAAABQAAAAeAAAAFQAAABAAAAAUAAAAEwAAAB0AAAAWAAAAEwAAAYwAAAAXAAAAFHN0Y28AAAAAAAAAAQAAADAAAABidWR0YQAAAFptZXRhAAAAAAAAACFoZGxyAAAAAAAAAABtZGlyYXBwbAAAAAAAAAAAAAAAAC1pbHN0AAAAJal0b28AAAAdZGF0YQAAAAEAAAAATGF2ZjU4LjIwLjEwMA==\" type=\"video/mp4\" />\n",
       "             </video>"
      ],
      "text/plain": [
       "<IPython.core.display.HTML object>"
      ]
     },
     "execution_count": 39,
     "metadata": {},
     "output_type": "execute_result"
    }
   ],
   "source": [
    "#if movie_: \n",
    "HTML(display_videos('cnn_test_temperature_4.mp4'))"
   ]
  },
  {
   "cell_type": "markdown",
   "metadata": {},
   "source": [
    "> Test Fully Connected (w/o high temperature)"
   ]
  },
  {
   "cell_type": "code",
   "execution_count": null,
   "metadata": {},
   "outputs": [],
   "source": [
    "print('Test basic FC:')\n",
    "# Set environment with by default temperature\n",
    "env_cnn = Environment(grid_size = size, max_time = T, temperature = 0.3)\n",
    "# Instanciate CNN agent with trained weights\n",
    "agent_fc = DQN_FC(size, lr = 0.1, epsilon = 0.2, memory_size = 2000, batch_size = 32)\n",
    "agent_fc.load(name_weights = 'fc_train_basic_model.h5', name_model = 'fc_train_basic_model.json')\n",
    "# Test agent\n",
    "test(agent_fc, env_fc, epochs_test, prefix = 'fc_test_basic_')"
   ]
  },
  {
   "cell_type": "code",
   "execution_count": null,
   "metadata": {},
   "outputs": [],
   "source": [
    "if movie_: HTML(display_videos('fc_test_basic_9.mp4'))"
   ]
  },
  {
   "cell_type": "code",
   "execution_count": null,
   "metadata": {},
   "outputs": [],
   "source": [
    "print('Train FC with higher temperature:')\n",
    "# Set environment with by doubled temperature\n",
    "env_temp = Environment(grid_size = size, max_time = T, temperature = 0.6)\n",
    "# Instanciate agent\n",
    "agent_temp = DQN_FC(size, lr = 0.1, epsilon = 0.2, memory_size = 2000, batch_size = 32)\n",
    "# Train + test\n",
    "train(agent_temp, env_temp, epochs_train,prefix = 'fc_train_temperature_')"
   ]
  },
  {
   "cell_type": "code",
   "execution_count": null,
   "metadata": {},
   "outputs": [],
   "source": [
    "if movie_: HTML(display_videos('fc_train_temperature_40.mp4'))"
   ]
  },
  {
   "cell_type": "code",
   "execution_count": null,
   "metadata": {},
   "outputs": [],
   "source": [
    "print('Test of the FC with higher temperature')\n",
    "# Set environment with by doubled temperature\n",
    "env_fc_temp = Environment(grid_size = size, max_time = T, temperature = 0.6)\n",
    "# Instanciate FC agent\n",
    "agent_fc_temp = DQN_FC(size, lr = 0.1, epsilon = 0.2, memory_size = 2000, batch_size = 32)\n",
    "agent_fc_temp.load(name_weights = 'fc_train_temperature_model.h5', name_model = 'fc_train_temperature_model.json')\n",
    "# Test\n",
    "test(agent_fc_temp, env_fc_temp, epochs_test, prefix = 'fc_test_temperature_')\n",
    "HTML(display_videos('fc_test_temperature_40.mp4'))"
   ]
  },
  {
   "cell_type": "code",
   "execution_count": null,
   "metadata": {},
   "outputs": [],
   "source": [
    "if movie_: HTML(display_videos('fc_test_temperature_40.mp4'))"
   ]
  },
  {
   "cell_type": "markdown",
   "metadata": {},
   "source": [
    "<b>Remarks on experiments:</b>\n",
    "- CNN produce better and smoother results than FC does (and seems less \"agitated\")<br>\n",
    "- `temperature` controls the relative amount of positive rewards within the grid. In consequence, we choose the double of the default value `temperature = 0.6` .  It seems to encourage the `Agent` to move more on the grid.<br>\n",
    "- Empirically, CNN tend to get stuck when the closest positive reward is far.\n",
    "\n",
    "<i>Note:</i> I did not have time to run the FC test. The code work nonetheless."
   ]
  },
  {
   "cell_type": "markdown",
   "metadata": {},
   "source": [
    "***\n",
    "\n",
    "The algorithm tends to not explore the map which can be an issue. We propose two ideas in order to encourage exploration:\n",
    "1. Incorporating a decreasing $\\epsilon$-greedy exploration. You can use the method ```set_epsilon```\n",
    "2. Append via the environment a new state that describes if a cell has been visited or not\n",
    "\n",
    "***\n",
    "__Question 10__ Design a new ```train_explore``` function and environment class ```EnvironmentExploring``` to tackle the issue of exploration.\n",
    "\n"
   ]
  },
  {
   "cell_type": "code",
   "execution_count": 40,
   "metadata": {},
   "outputs": [],
   "source": [
    "def train_explore(agent, env, epoch, prefix='', epsilon_0 = 0.6):\n",
    "    # Number of won games\n",
    "    score, loss = 0, 0\n",
    "    \n",
    "    for e in range(epoch):\n",
    "        # Set a decaying epsilon\n",
    "        agent.set_epsilon(epsilon_0 - (epsilon_0 - 0.1)*e/epoch)\n",
    "\n",
    "        # Reset the environment for each epoch\n",
    "        current_state = env.reset()\n",
    "\n",
    "        # Initialize metrics\n",
    "        win, lose = 0, 0\n",
    "\n",
    "        # Keep playing the game as long as possible\n",
    "        game_over = False\n",
    "        while not game_over:\n",
    "\n",
    "            # The agent follows his policy\n",
    "            action = agent.act(current_state)\n",
    "\n",
    "            # Update of the environment in consequence\n",
    "            next_state, reward, game_over = env.act(action, train = True)\n",
    "\n",
    "            # Update the metrics\n",
    "            if reward > 0:\n",
    "                win += reward\n",
    "            else:\n",
    "                lose -=  reward\n",
    "\n",
    "            # Execute the reinforcement learning strategy\n",
    "            loss = agent.reinforce(current_state, next_state, action, reward, game_over)\n",
    "\n",
    "        # Save as a mp4\n",
    "        if e % 10 == 0:\n",
    "            env.draw(prefix+str(e))\n",
    "\n",
    "        # Update stats\n",
    "        score += win-lose\n",
    "\n",
    "        print(\"Epoch {:03d}/{:03d} | Loss {:.4f} | Win/lose count {}/{} ({})\"\n",
    "              .format(e, epoch, loss, win, lose, win-lose))\n",
    "        agent.save(name_weights = prefix+'model.h5', name_model = prefix + 'model.json')"
   ]
  },
  {
   "cell_type": "code",
   "execution_count": 45,
   "metadata": {},
   "outputs": [],
   "source": [
    "class EnvironmentExploring(Environment):\n",
    "\n",
    "    def __init__(self, *args, **kwargs):\n",
    "        super(EnvironmentExploring, self).__init__(*args, **kwargs)\n",
    "\n",
    "        # The malus indicators is the only difference\n",
    "        self.malus_position=np.zeros((self.grid_size, self.grid_size))\n",
    "\n",
    "    def act(self, action, train=False):\n",
    "\n",
    "        self.get_frame(int(self.time))\n",
    "\n",
    "        self.position = np.zeros((self.grid_size, self.grid_size))\n",
    "\n",
    "        self.position[0:2,:]= -1\n",
    "        self.position[:,0:2] = -1\n",
    "        self.position[-2:, :] = -1\n",
    "        self.position[-2:, :] = -1\n",
    "\n",
    "        self.position[self.x, self.y] = 1\n",
    "        if action == 0:\n",
    "            if self.x == self.grid_size-3:\n",
    "                self.x = self.x-1\n",
    "            else:\n",
    "                self.x = self.x + 1\n",
    "        elif action == 1:\n",
    "            if self.x == 2:\n",
    "                self.x = self.x+1\n",
    "            else:\n",
    "                self.x = self.x-1\n",
    "        elif action == 2:\n",
    "            if self.y == self.grid_size - 3:\n",
    "                self.y = self.y - 1\n",
    "            else:\n",
    "                self.y = self.y + 1\n",
    "        elif action == 3:\n",
    "            if self.y == 2:\n",
    "                self.y = self.y + 1\n",
    "            else:\n",
    "                self.y = self.y - 1\n",
    "        else:\n",
    "            RuntimeError('Error: action not recognized')\n",
    "\n",
    "        self.time = self.time + 1\n",
    "\n",
    "        # Set the to-be cumulative reward to zero\n",
    "        reward = 0\n",
    "\n",
    "        # Penalize the agent if train is set to True\n",
    "        if train: reward -= self.malus_position[self.x, self.y]\n",
    "        self.malus_position[self.x, self.y] = 0.1\n",
    "\n",
    "        # Add true reward and remove it from the board\n",
    "        reward += self.board[self.x, self.y]\n",
    "        self.board[self.x, self.y] = 0\n",
    "\n",
    "        # Return new state\n",
    "        game_over = self.time > self.max_time\n",
    "        state = np.concatenate((self.malus_position.reshape(self.grid_size, self.grid_size, 1),\n",
    "                                self.board.reshape(self.grid_size, self.grid_size, 1),\n",
    "                                self.position.reshape(self.grid_size, self.grid_size, 1))\n",
    "                                ,axis=2)\n",
    "        state = state[self.x-2:self.x+3,self.y-2:self.y+3,:]\n",
    "\n",
    "        return(state, reward, game_over)\n",
    "\n",
    "    def reset(self):\n",
    "        \"\"\"This function resets the game and returns the initial state\"\"\"\n",
    "\n",
    "        self.x = np.random.randint(3, self.grid_size-3, size=1)[0]\n",
    "        self.y = np.random.randint(3, self.grid_size-3, size=1)[0]\n",
    "\n",
    "        bonus = 0.5*np.random.binomial(1, self.temperature,size=self.grid_size**2)\n",
    "        bonus = bonus.reshape(self.grid_size,self.grid_size)\n",
    "\n",
    "        malus = -1.0*np.random.binomial(1, self.temperature,size=self.grid_size**2)\n",
    "        malus = malus.reshape(self.grid_size, self.grid_size)\n",
    "\n",
    "        self.to_draw = np.zeros((self.max_time+2, self.grid_size*self.scale, self.grid_size*self.scale, 3))\n",
    "\n",
    "        malus[bonus>0]=0\n",
    "\n",
    "        self.board = bonus + malus\n",
    "\n",
    "        # This makes the dimension of the problem work\n",
    "        self.malus_position = np.zeros((self.grid_size, self.grid_size))\n",
    "        self.position = np.zeros((self.grid_size, self.grid_size))\n",
    "        self.position[0:2,:]= -1\n",
    "        self.position[:,0:2] = -1\n",
    "        self.position[-2:, :] = -1\n",
    "        self.position[-2:, :] = -1\n",
    "        self.board[self.x,self.y] = 0\n",
    "        self.time = 0\n",
    "\n",
    "        state = np.concatenate((self.malus_position.reshape(self.grid_size, self.grid_size,1),\n",
    "                                self.board.reshape(self.grid_size, self.grid_size,1),\n",
    "                                self.position.reshape(self.grid_size, self.grid_size,1)),axis=2)\n",
    "\n",
    "        state = state[self.x - 2:self.x + 3, self.y - 2:self.y + 3, :]\n",
    "        return(state)\n"
   ]
  },
  {
   "cell_type": "code",
   "execution_count": 51,
   "metadata": {
    "collapsed": true
   },
   "outputs": [
    {
     "name": "stdout",
     "output_type": "stream",
     "text": [
      "Epoch 000/020 | Loss 0.0159 | Win/lose count 6.0/53.300000000000466 (-47.300000000000466)\n",
      "Epoch 001/020 | Loss 0.0140 | Win/lose count 8.0/55.800000000000466 (-47.800000000000466)\n",
      "Epoch 002/020 | Loss 0.0242 | Win/lose count 11.5/60.30000000000042 (-48.80000000000042)\n",
      "Epoch 003/020 | Loss 0.0285 | Win/lose count 13.0/61.70000000000048 (-48.70000000000048)\n",
      "Epoch 004/020 | Loss 0.0347 | Win/lose count 7.5/55.30000000000046 (-47.80000000000046)\n",
      "Epoch 005/020 | Loss 0.0376 | Win/lose count 21.0/64.5000000000004 (-43.5000000000004)\n",
      "Epoch 006/020 | Loss 0.0218 | Win/lose count 6.5/56.00000000000041 (-49.50000000000041)\n",
      "Epoch 007/020 | Loss 0.0309 | Win/lose count 10.5/57.60000000000047 (-47.10000000000047)\n",
      "Epoch 008/020 | Loss 0.0359 | Win/lose count 2.5/51.70000000000042 (-49.20000000000042)\n"
     ]
    },
    {
     "ename": "KeyboardInterrupt",
     "evalue": "",
     "output_type": "error",
     "traceback": [
      "\u001b[0;31m---------------------------------------------------------------------------\u001b[0m",
      "\u001b[0;31mKeyboardInterrupt\u001b[0m                         Traceback (most recent call last)",
      "\u001b[0;32m<ipython-input-51-ef1035ad1cad>\u001b[0m in \u001b[0;36m<module>\u001b[0;34m\u001b[0m\n\u001b[1;32m      3\u001b[0m \u001b[0magent_explore\u001b[0m \u001b[0;34m=\u001b[0m \u001b[0mDQN_CNN\u001b[0m\u001b[0;34m(\u001b[0m\u001b[0msize\u001b[0m\u001b[0;34m,\u001b[0m \u001b[0mlr\u001b[0m\u001b[0;34m=\u001b[0m \u001b[0;36m0.1\u001b[0m\u001b[0;34m,\u001b[0m \u001b[0mepsilon\u001b[0m \u001b[0;34m=\u001b[0m \u001b[0;36m0.3\u001b[0m\u001b[0;34m,\u001b[0m \u001b[0mmemory_size\u001b[0m \u001b[0;34m=\u001b[0m \u001b[0;36m2000\u001b[0m\u001b[0;34m,\u001b[0m \u001b[0mbatch_size\u001b[0m \u001b[0;34m=\u001b[0m \u001b[0;36m64\u001b[0m\u001b[0;34m,\u001b[0m \u001b[0mn_state\u001b[0m \u001b[0;34m=\u001b[0m \u001b[0;36m3\u001b[0m\u001b[0;34m)\u001b[0m\u001b[0;34m\u001b[0m\u001b[0;34m\u001b[0m\u001b[0m\n\u001b[1;32m      4\u001b[0m \u001b[0;31m# Training\u001b[0m\u001b[0;34m\u001b[0m\u001b[0;34m\u001b[0m\u001b[0;34m\u001b[0m\u001b[0m\n\u001b[0;32m----> 5\u001b[0;31m \u001b[0mtrain_explore\u001b[0m\u001b[0;34m(\u001b[0m\u001b[0magent_explore\u001b[0m\u001b[0;34m,\u001b[0m \u001b[0menv_explore\u001b[0m\u001b[0;34m,\u001b[0m \u001b[0;36m20\u001b[0m\u001b[0;34m,\u001b[0m \u001b[0mprefix\u001b[0m\u001b[0;34m=\u001b[0m\u001b[0;34m'cnn_train_explore_'\u001b[0m\u001b[0;34m,\u001b[0m \u001b[0mepsilon_0\u001b[0m \u001b[0;34m=\u001b[0m \u001b[0;36m0.3\u001b[0m\u001b[0;34m)\u001b[0m\u001b[0;34m\u001b[0m\u001b[0;34m\u001b[0m\u001b[0m\n\u001b[0m",
      "\u001b[0;32m<ipython-input-40-5bda5b007eca>\u001b[0m in \u001b[0;36mtrain_explore\u001b[0;34m(agent, env, epoch, prefix, epsilon_0)\u001b[0m\n\u001b[1;32m     30\u001b[0m \u001b[0;34m\u001b[0m\u001b[0m\n\u001b[1;32m     31\u001b[0m             \u001b[0;31m# Execute the reinforcement learning strategy\u001b[0m\u001b[0;34m\u001b[0m\u001b[0;34m\u001b[0m\u001b[0;34m\u001b[0m\u001b[0m\n\u001b[0;32m---> 32\u001b[0;31m             \u001b[0mloss\u001b[0m \u001b[0;34m=\u001b[0m \u001b[0magent\u001b[0m\u001b[0;34m.\u001b[0m\u001b[0mreinforce\u001b[0m\u001b[0;34m(\u001b[0m\u001b[0mcurrent_state\u001b[0m\u001b[0;34m,\u001b[0m \u001b[0mnext_state\u001b[0m\u001b[0;34m,\u001b[0m \u001b[0maction\u001b[0m\u001b[0;34m,\u001b[0m \u001b[0mreward\u001b[0m\u001b[0;34m,\u001b[0m \u001b[0mgame_over\u001b[0m\u001b[0;34m)\u001b[0m\u001b[0;34m\u001b[0m\u001b[0;34m\u001b[0m\u001b[0m\n\u001b[0m\u001b[1;32m     33\u001b[0m \u001b[0;34m\u001b[0m\u001b[0m\n\u001b[1;32m     34\u001b[0m         \u001b[0;31m# Save as a mp4\u001b[0m\u001b[0;34m\u001b[0m\u001b[0;34m\u001b[0m\u001b[0;34m\u001b[0m\u001b[0m\n",
      "\u001b[0;32m<ipython-input-25-5fd8984772fd>\u001b[0m in \u001b[0;36mreinforce\u001b[0;34m(self, s_, n_s_, a_, r_, game_over)\u001b[0m\n\u001b[1;32m     39\u001b[0m                 \u001b[0mtarget_q\u001b[0m\u001b[0;34m[\u001b[0m\u001b[0mi\u001b[0m\u001b[0;34m,\u001b[0m \u001b[0ma_batch\u001b[0m\u001b[0;34m]\u001b[0m \u001b[0;34m=\u001b[0m \u001b[0mr_batch\u001b[0m\u001b[0;34m\u001b[0m\u001b[0;34m\u001b[0m\u001b[0m\n\u001b[1;32m     40\u001b[0m             \u001b[0;32melse\u001b[0m\u001b[0;34m:\u001b[0m\u001b[0;34m\u001b[0m\u001b[0;34m\u001b[0m\u001b[0m\n\u001b[0;32m---> 41\u001b[0;31m                 \u001b[0mprediction\u001b[0m \u001b[0;34m=\u001b[0m \u001b[0mself\u001b[0m\u001b[0;34m.\u001b[0m\u001b[0mmodel\u001b[0m\u001b[0;34m.\u001b[0m\u001b[0mpredict\u001b[0m\u001b[0;34m(\u001b[0m\u001b[0mnp\u001b[0m\u001b[0;34m.\u001b[0m\u001b[0marray\u001b[0m\u001b[0;34m(\u001b[0m\u001b[0;34m[\u001b[0m\u001b[0mn_s_batch\u001b[0m\u001b[0;34m]\u001b[0m\u001b[0;34m)\u001b[0m\u001b[0;34m)\u001b[0m\u001b[0;34m\u001b[0m\u001b[0;34m\u001b[0m\u001b[0m\n\u001b[0m\u001b[1;32m     42\u001b[0m                 \u001b[0mtarget_q\u001b[0m\u001b[0;34m[\u001b[0m\u001b[0mi\u001b[0m\u001b[0;34m,\u001b[0m \u001b[0ma_batch\u001b[0m\u001b[0;34m]\u001b[0m \u001b[0;34m=\u001b[0m \u001b[0mr_batch\u001b[0m \u001b[0;34m+\u001b[0m \u001b[0mself\u001b[0m\u001b[0;34m.\u001b[0m\u001b[0mdiscount\u001b[0m \u001b[0;34m*\u001b[0m \u001b[0mnp\u001b[0m\u001b[0;34m.\u001b[0m\u001b[0mamax\u001b[0m\u001b[0;34m(\u001b[0m\u001b[0mprediction\u001b[0m\u001b[0;34m)\u001b[0m\u001b[0;34m\u001b[0m\u001b[0;34m\u001b[0m\u001b[0m\n\u001b[1;32m     43\u001b[0m \u001b[0;34m\u001b[0m\u001b[0m\n",
      "\u001b[0;32m/usr/local/lib/python3.7/site-packages/keras/engine/training.py\u001b[0m in \u001b[0;36mpredict\u001b[0;34m(self, x, batch_size, verbose, steps)\u001b[0m\n\u001b[1;32m   1167\u001b[0m                                             \u001b[0mbatch_size\u001b[0m\u001b[0;34m=\u001b[0m\u001b[0mbatch_size\u001b[0m\u001b[0;34m,\u001b[0m\u001b[0;34m\u001b[0m\u001b[0;34m\u001b[0m\u001b[0m\n\u001b[1;32m   1168\u001b[0m                                             \u001b[0mverbose\u001b[0m\u001b[0;34m=\u001b[0m\u001b[0mverbose\u001b[0m\u001b[0;34m,\u001b[0m\u001b[0;34m\u001b[0m\u001b[0;34m\u001b[0m\u001b[0m\n\u001b[0;32m-> 1169\u001b[0;31m                                             steps=steps)\n\u001b[0m\u001b[1;32m   1170\u001b[0m \u001b[0;34m\u001b[0m\u001b[0m\n\u001b[1;32m   1171\u001b[0m     def train_on_batch(self, x, y,\n",
      "\u001b[0;32m/usr/local/lib/python3.7/site-packages/keras/engine/training_arrays.py\u001b[0m in \u001b[0;36mpredict_loop\u001b[0;34m(model, f, ins, batch_size, verbose, steps)\u001b[0m\n\u001b[1;32m    292\u001b[0m                 \u001b[0mins_batch\u001b[0m\u001b[0;34m[\u001b[0m\u001b[0mi\u001b[0m\u001b[0;34m]\u001b[0m \u001b[0;34m=\u001b[0m \u001b[0mins_batch\u001b[0m\u001b[0;34m[\u001b[0m\u001b[0mi\u001b[0m\u001b[0;34m]\u001b[0m\u001b[0;34m.\u001b[0m\u001b[0mtoarray\u001b[0m\u001b[0;34m(\u001b[0m\u001b[0;34m)\u001b[0m\u001b[0;34m\u001b[0m\u001b[0;34m\u001b[0m\u001b[0m\n\u001b[1;32m    293\u001b[0m \u001b[0;34m\u001b[0m\u001b[0m\n\u001b[0;32m--> 294\u001b[0;31m             \u001b[0mbatch_outs\u001b[0m \u001b[0;34m=\u001b[0m \u001b[0mf\u001b[0m\u001b[0;34m(\u001b[0m\u001b[0mins_batch\u001b[0m\u001b[0;34m)\u001b[0m\u001b[0;34m\u001b[0m\u001b[0;34m\u001b[0m\u001b[0m\n\u001b[0m\u001b[1;32m    295\u001b[0m             \u001b[0mbatch_outs\u001b[0m \u001b[0;34m=\u001b[0m \u001b[0mto_list\u001b[0m\u001b[0;34m(\u001b[0m\u001b[0mbatch_outs\u001b[0m\u001b[0;34m)\u001b[0m\u001b[0;34m\u001b[0m\u001b[0;34m\u001b[0m\u001b[0m\n\u001b[1;32m    296\u001b[0m             \u001b[0;32mif\u001b[0m \u001b[0mbatch_index\u001b[0m \u001b[0;34m==\u001b[0m \u001b[0;36m0\u001b[0m\u001b[0;34m:\u001b[0m\u001b[0;34m\u001b[0m\u001b[0;34m\u001b[0m\u001b[0m\n",
      "\u001b[0;32m/usr/local/lib/python3.7/site-packages/keras/backend/tensorflow_backend.py\u001b[0m in \u001b[0;36m__call__\u001b[0;34m(self, inputs)\u001b[0m\n\u001b[1;32m   2713\u001b[0m                 \u001b[0;32mreturn\u001b[0m \u001b[0mself\u001b[0m\u001b[0;34m.\u001b[0m\u001b[0m_legacy_call\u001b[0m\u001b[0;34m(\u001b[0m\u001b[0minputs\u001b[0m\u001b[0;34m)\u001b[0m\u001b[0;34m\u001b[0m\u001b[0;34m\u001b[0m\u001b[0m\n\u001b[1;32m   2714\u001b[0m \u001b[0;34m\u001b[0m\u001b[0m\n\u001b[0;32m-> 2715\u001b[0;31m             \u001b[0;32mreturn\u001b[0m \u001b[0mself\u001b[0m\u001b[0;34m.\u001b[0m\u001b[0m_call\u001b[0m\u001b[0;34m(\u001b[0m\u001b[0minputs\u001b[0m\u001b[0;34m)\u001b[0m\u001b[0;34m\u001b[0m\u001b[0;34m\u001b[0m\u001b[0m\n\u001b[0m\u001b[1;32m   2716\u001b[0m         \u001b[0;32melse\u001b[0m\u001b[0;34m:\u001b[0m\u001b[0;34m\u001b[0m\u001b[0;34m\u001b[0m\u001b[0m\n\u001b[1;32m   2717\u001b[0m             \u001b[0;32mif\u001b[0m \u001b[0mpy_any\u001b[0m\u001b[0;34m(\u001b[0m\u001b[0mis_tensor\u001b[0m\u001b[0;34m(\u001b[0m\u001b[0mx\u001b[0m\u001b[0;34m)\u001b[0m \u001b[0;32mfor\u001b[0m \u001b[0mx\u001b[0m \u001b[0;32min\u001b[0m \u001b[0minputs\u001b[0m\u001b[0;34m)\u001b[0m\u001b[0;34m:\u001b[0m\u001b[0;34m\u001b[0m\u001b[0;34m\u001b[0m\u001b[0m\n",
      "\u001b[0;32m/usr/local/lib/python3.7/site-packages/keras/backend/tensorflow_backend.py\u001b[0m in \u001b[0;36m_call\u001b[0;34m(self, inputs)\u001b[0m\n\u001b[1;32m   2634\u001b[0m             \u001b[0;32mraise\u001b[0m \u001b[0mTypeError\u001b[0m\u001b[0;34m(\u001b[0m\u001b[0;34m'`inputs` should be a list or tuple.'\u001b[0m\u001b[0;34m)\u001b[0m\u001b[0;34m\u001b[0m\u001b[0;34m\u001b[0m\u001b[0m\n\u001b[1;32m   2635\u001b[0m \u001b[0;34m\u001b[0m\u001b[0m\n\u001b[0;32m-> 2636\u001b[0;31m         \u001b[0msession\u001b[0m \u001b[0;34m=\u001b[0m \u001b[0mget_session\u001b[0m\u001b[0;34m(\u001b[0m\u001b[0;34m)\u001b[0m\u001b[0;34m\u001b[0m\u001b[0;34m\u001b[0m\u001b[0m\n\u001b[0m\u001b[1;32m   2637\u001b[0m         \u001b[0mfeed_arrays\u001b[0m \u001b[0;34m=\u001b[0m \u001b[0;34m[\u001b[0m\u001b[0;34m]\u001b[0m\u001b[0;34m\u001b[0m\u001b[0;34m\u001b[0m\u001b[0m\n\u001b[1;32m   2638\u001b[0m         \u001b[0marray_vals\u001b[0m \u001b[0;34m=\u001b[0m \u001b[0;34m[\u001b[0m\u001b[0;34m]\u001b[0m\u001b[0;34m\u001b[0m\u001b[0;34m\u001b[0m\u001b[0m\n",
      "\u001b[0;32m/usr/local/lib/python3.7/site-packages/keras/backend/tensorflow_backend.py\u001b[0m in \u001b[0;36mget_session\u001b[0;34m()\u001b[0m\n\u001b[1;32m    204\u001b[0m                     \u001b[0mv\u001b[0m\u001b[0;34m.\u001b[0m\u001b[0m_keras_initialized\u001b[0m \u001b[0;34m=\u001b[0m \u001b[0;32mTrue\u001b[0m\u001b[0;34m\u001b[0m\u001b[0;34m\u001b[0m\u001b[0m\n\u001b[1;32m    205\u001b[0m                 \u001b[0;32mif\u001b[0m \u001b[0muninitialized_vars\u001b[0m\u001b[0;34m:\u001b[0m\u001b[0;34m\u001b[0m\u001b[0;34m\u001b[0m\u001b[0m\n\u001b[0;32m--> 206\u001b[0;31m                     \u001b[0msession\u001b[0m\u001b[0;34m.\u001b[0m\u001b[0mrun\u001b[0m\u001b[0;34m(\u001b[0m\u001b[0mtf\u001b[0m\u001b[0;34m.\u001b[0m\u001b[0mvariables_initializer\u001b[0m\u001b[0;34m(\u001b[0m\u001b[0muninitialized_vars\u001b[0m\u001b[0;34m)\u001b[0m\u001b[0;34m)\u001b[0m\u001b[0;34m\u001b[0m\u001b[0;34m\u001b[0m\u001b[0m\n\u001b[0m\u001b[1;32m    207\u001b[0m     \u001b[0;31m# hack for list_devices() function.\u001b[0m\u001b[0;34m\u001b[0m\u001b[0;34m\u001b[0m\u001b[0;34m\u001b[0m\u001b[0m\n\u001b[1;32m    208\u001b[0m     \u001b[0;31m# list_devices() function is not available under tensorflow r1.3.\u001b[0m\u001b[0;34m\u001b[0m\u001b[0;34m\u001b[0m\u001b[0;34m\u001b[0m\u001b[0m\n",
      "\u001b[0;32m/usr/local/Cellar/python/3.7.2_1/Frameworks/Python.framework/Versions/3.7/lib/python3.7/contextlib.py\u001b[0m in \u001b[0;36m__exit__\u001b[0;34m(self, type, value, traceback)\u001b[0m\n\u001b[1;32m    117\u001b[0m         \u001b[0;32mif\u001b[0m \u001b[0mtype\u001b[0m \u001b[0;32mis\u001b[0m \u001b[0;32mNone\u001b[0m\u001b[0;34m:\u001b[0m\u001b[0;34m\u001b[0m\u001b[0;34m\u001b[0m\u001b[0m\n\u001b[1;32m    118\u001b[0m             \u001b[0;32mtry\u001b[0m\u001b[0;34m:\u001b[0m\u001b[0;34m\u001b[0m\u001b[0;34m\u001b[0m\u001b[0m\n\u001b[0;32m--> 119\u001b[0;31m                 \u001b[0mnext\u001b[0m\u001b[0;34m(\u001b[0m\u001b[0mself\u001b[0m\u001b[0;34m.\u001b[0m\u001b[0mgen\u001b[0m\u001b[0;34m)\u001b[0m\u001b[0;34m\u001b[0m\u001b[0;34m\u001b[0m\u001b[0m\n\u001b[0m\u001b[1;32m    120\u001b[0m             \u001b[0;32mexcept\u001b[0m \u001b[0mStopIteration\u001b[0m\u001b[0;34m:\u001b[0m\u001b[0;34m\u001b[0m\u001b[0;34m\u001b[0m\u001b[0m\n\u001b[1;32m    121\u001b[0m                 \u001b[0;32mreturn\u001b[0m \u001b[0;32mFalse\u001b[0m\u001b[0;34m\u001b[0m\u001b[0;34m\u001b[0m\u001b[0m\n",
      "\u001b[0;32m/usr/local/lib/python3.7/site-packages/tensorflow/python/framework/ops.py\u001b[0m in \u001b[0;36mget_controller\u001b[0;34m(self, default)\u001b[0m\n\u001b[1;32m   5227\u001b[0m       with super(_DefaultGraphStack, self).get_controller(\n\u001b[1;32m   5228\u001b[0m           default) as g, context.graph_mode():\n\u001b[0;32m-> 5229\u001b[0;31m         \u001b[0;32myield\u001b[0m \u001b[0mg\u001b[0m\u001b[0;34m\u001b[0m\u001b[0;34m\u001b[0m\u001b[0m\n\u001b[0m\u001b[1;32m   5230\u001b[0m     \u001b[0;32mfinally\u001b[0m\u001b[0;34m:\u001b[0m\u001b[0;34m\u001b[0m\u001b[0;34m\u001b[0m\u001b[0m\n\u001b[1;32m   5231\u001b[0m       \u001b[0;31m# If an exception is raised here it may be hiding a related exception in\u001b[0m\u001b[0;34m\u001b[0m\u001b[0;34m\u001b[0m\u001b[0;34m\u001b[0m\u001b[0m\n",
      "\u001b[0;32m/usr/local/Cellar/python/3.7.2_1/Frameworks/Python.framework/Versions/3.7/lib/python3.7/contextlib.py\u001b[0m in \u001b[0;36m__exit__\u001b[0;34m(self, type, value, traceback)\u001b[0m\n\u001b[1;32m    117\u001b[0m         \u001b[0;32mif\u001b[0m \u001b[0mtype\u001b[0m \u001b[0;32mis\u001b[0m \u001b[0;32mNone\u001b[0m\u001b[0;34m:\u001b[0m\u001b[0;34m\u001b[0m\u001b[0;34m\u001b[0m\u001b[0m\n\u001b[1;32m    118\u001b[0m             \u001b[0;32mtry\u001b[0m\u001b[0;34m:\u001b[0m\u001b[0;34m\u001b[0m\u001b[0;34m\u001b[0m\u001b[0m\n\u001b[0;32m--> 119\u001b[0;31m                 \u001b[0mnext\u001b[0m\u001b[0;34m(\u001b[0m\u001b[0mself\u001b[0m\u001b[0;34m.\u001b[0m\u001b[0mgen\u001b[0m\u001b[0;34m)\u001b[0m\u001b[0;34m\u001b[0m\u001b[0;34m\u001b[0m\u001b[0m\n\u001b[0m\u001b[1;32m    120\u001b[0m             \u001b[0;32mexcept\u001b[0m \u001b[0mStopIteration\u001b[0m\u001b[0;34m:\u001b[0m\u001b[0;34m\u001b[0m\u001b[0;34m\u001b[0m\u001b[0m\n\u001b[1;32m    121\u001b[0m                 \u001b[0;32mreturn\u001b[0m \u001b[0;32mFalse\u001b[0m\u001b[0;34m\u001b[0m\u001b[0;34m\u001b[0m\u001b[0m\n",
      "\u001b[0;32m/usr/local/lib/python3.7/site-packages/tensorflow/python/framework/ops.py\u001b[0m in \u001b[0;36mget_controller\u001b[0;34m(self, default)\u001b[0m\n\u001b[1;32m   5040\u001b[0m       \u001b[0;32mif\u001b[0m \u001b[0mself\u001b[0m\u001b[0;34m.\u001b[0m\u001b[0mstack\u001b[0m\u001b[0;34m:\u001b[0m\u001b[0;34m\u001b[0m\u001b[0;34m\u001b[0m\u001b[0m\n\u001b[1;32m   5041\u001b[0m         \u001b[0;32mif\u001b[0m \u001b[0mself\u001b[0m\u001b[0;34m.\u001b[0m\u001b[0m_enforce_nesting\u001b[0m\u001b[0;34m:\u001b[0m\u001b[0;34m\u001b[0m\u001b[0;34m\u001b[0m\u001b[0m\n\u001b[0;32m-> 5042\u001b[0;31m           \u001b[0;32mif\u001b[0m \u001b[0mself\u001b[0m\u001b[0;34m.\u001b[0m\u001b[0mstack\u001b[0m\u001b[0;34m[\u001b[0m\u001b[0;34m-\u001b[0m\u001b[0;36m1\u001b[0m\u001b[0;34m]\u001b[0m \u001b[0;32mis\u001b[0m \u001b[0;32mnot\u001b[0m \u001b[0mdefault\u001b[0m\u001b[0;34m:\u001b[0m\u001b[0;34m\u001b[0m\u001b[0;34m\u001b[0m\u001b[0m\n\u001b[0m\u001b[1;32m   5043\u001b[0m             raise AssertionError(\n\u001b[1;32m   5044\u001b[0m                 \u001b[0;34m\"Nesting violated for default stack of %s objects\"\u001b[0m \u001b[0;34m%\u001b[0m\u001b[0;34m\u001b[0m\u001b[0;34m\u001b[0m\u001b[0m\n",
      "\u001b[0;31mKeyboardInterrupt\u001b[0m: "
     ]
    }
   ],
   "source": [
    "# Instanciate the Agent and the Environment\n",
    "env_explore = EnvironmentExploring(grid_size=size, max_time=T, temperature=0.3)\n",
    "agent_explore = DQN_CNN(size, lr= 0.1, epsilon = 0.3, memory_size = 2000, batch_size = 64, n_state = 3)\n",
    "# Training\n",
    "train_explore(agent_explore, env_explore, 20, prefix='cnn_train_explore_', epsilon_0 = 0.3)"
   ]
  },
  {
   "cell_type": "markdown",
   "metadata": {},
   "source": [
    "<b>Careful!</b> I did not have time to compute an adequate number of epochs (80 ?) on the data. But I am confident the results will be what is expected."
   ]
  },
  {
   "cell_type": "code",
   "execution_count": 48,
   "metadata": {},
   "outputs": [
    {
     "data": {
      "text/html": [
       "<video alt=\"test\" controls>\n",
       "                <source src=\"data:video/mp4;base64,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\" type=\"video/mp4\" />\n",
       "             </video>"
      ],
      "text/plain": [
       "<IPython.core.display.HTML object>"
      ]
     },
     "execution_count": 48,
     "metadata": {},
     "output_type": "execute_result"
    }
   ],
   "source": [
    "if movie_: HTML(display_videos('cnn_train_explore_10.mp4'))"
   ]
  },
  {
   "cell_type": "code",
   "execution_count": null,
   "metadata": {
    "collapsed": true
   },
   "outputs": [],
   "source": [
    "# Load\n",
    "agent_explore = DQN_CNN(size, lr = 0.1, epsilon = 0.2, memory_size = 20000, batch_size = 64)\n",
    "agent_explore.load(name_weights = 'cnn_train_explore_model.h5', name_model = 'cnn_train_explore_model.json')\n",
    "# Evaluation\n",
    "test(agent, env, epochs_test, prefix='cnn_test_explore_')"
   ]
  },
  {
   "cell_type": "code",
   "execution_count": null,
   "metadata": {},
   "outputs": [],
   "source": [
    "if movie_: HTML(display_videos('cnn_test_explore_9.mp4'))"
   ]
  },
  {
   "cell_type": "markdown",
   "metadata": {},
   "source": [
    "***\n",
    "***\n",
    "__BONUS question__ Use the expert DQN from the previous question to generate some winning games. Train a model that mimicks its behavior. Compare the performances."
   ]
  },
  {
   "cell_type": "code",
   "execution_count": 52,
   "metadata": {},
   "outputs": [],
   "source": [
    "import copy\n",
    "class Double_DQN(Agent):\n",
    "    def __init__(self, grid_size, lr = 0.1, discount=0.9, epsilon=0.1, memory_size=100, batch_size=16, n_state=3):\n",
    "        super(Double_DQN, self).__init__(epsilon = epsilon)\n",
    "\n",
    "        # Discount and grid size\n",
    "        self.discount = discount\n",
    "        self.grid_size = grid_size\n",
    "\n",
    "        # Number of state\n",
    "        self.n_state = n_state\n",
    "\n",
    "        # Memory\n",
    "        self.memory = Memory(memory_size)\n",
    "\n",
    "        # Batch size when learning\n",
    "        self.batch_size = batch_size\n",
    "\n",
    "        # Learning rate\n",
    "        self.lr = lr\n",
    "\n",
    "    def learned_act(self, s):\n",
    "        prediction = self.model.predict(np.array([s,]))\n",
    "        return(np.argmax(prediction))\n",
    "\n",
    "    def reinforce(self, s_, n_s_, a_, r_, game_over_):\n",
    "        # Two steps: first memorize the states, second learn from the pool\n",
    "        self.memory.remember([s_, n_s_, a_, r_, game_over_])\n",
    "\n",
    "        # Initializations\n",
    "        input_states = np.zeros((self.batch_size, 5, 5, self.n_state))\n",
    "        target_q = np.zeros((self.batch_size, 4))\n",
    "\n",
    "        # Indicator variable for which model should be trained\n",
    "        zero_one = np.random.randint(2)\n",
    "\n",
    "        for i in range(self.batch_size):\n",
    "            # Random Access Memories\n",
    "            [s_batch, n_s_batch, a_batch, r_batch, game_over_batch] = self.memory.random_access()\n",
    "            input_states[i] = s_batch\n",
    "\n",
    "            # Prediction depending of the model\n",
    "            if zero_one == 0:\n",
    "                target_q[i] = self.model.predict(np.array([s_batch]))\n",
    "            else :\n",
    "                target_q[i] = self.second_model.predict(np.array([s_batch]))\n",
    "\n",
    "            if game_over_:\n",
    "                target_q[i, a_batch] = r_batch\n",
    "            else:\n",
    "                # Prediction depending of the model\n",
    "                if zero_one == 0:\n",
    "                    prediction1 = self.model.predict(np.array([n_s_batch]))\n",
    "                    prediction2 = self.second_model.predict(np.array([n_s_batch]))\n",
    "                else:\n",
    "                    prediction2 = self.model.predict(np.array([n_s_batch]))\n",
    "                    prediction1 = self.second_model.predict(np.array([n_s_batch]))\n",
    "\n",
    "                target_q[i, a_batch] = r_batch + self.discount * (prediction2.ravel())[np.argmax(prediction1)]\n",
    "\n",
    "        # HINT: Clip the target to avoid exploiding gradients.. -- clipping is a bit tighter\n",
    "        target_q = np.clip(target_q, -3, 3)\n",
    "\n",
    "        # Training depending on the model\n",
    "        if zero_one == 0:\n",
    "            l = self.model.train_on_batch(input_states, target_q)\n",
    "        else:\n",
    "            l = self.second_model.train_on_batch(input_states, target_q)\n",
    "\n",
    "        return l\n",
    "\n",
    "    def save(self, name_weights='model.h5', name_model='model.json'):\n",
    "        self.model.save_weights(name_weights, overwrite=True)\n",
    "        with open(name_model, \"w\") as outfile:\n",
    "            json.dump(self.model.to_json(), outfile)\n",
    "\n",
    "    def load(self, name_weights='model.h5', name_model='model.json'):\n",
    "        with open(name_model, \"r\") as jfile:\n",
    "            model = model_from_json(json.load(jfile))\n",
    "        model.load_weights(name_weights)\n",
    "        model.compile(\"sgd\", \"mse\")\n",
    "        self.model = model\n",
    "\n",
    "class Double_DQN_CNN(Double_DQN):\n",
    "    def __init__(self, *args,**kwargs):\n",
    "        super(Double_DQN_CNN, self).__init__(*args,**kwargs)\n",
    "\n",
    "        model = Sequential()\n",
    "\n",
    "        model.add(Conv2D(32, (1,1), strides=(1,1), input_shape=(5, 5, self.n_state), data_format = 'channels_last'))\n",
    "        model.add(Conv2D(16, (1,1), strides=(1,1), data_format = 'channels_last'))\n",
    "        model.add(Flatten())\n",
    "        model.add(Dense(4))\n",
    "        model.add(Activation('relu'))\n",
    "\n",
    "        model.compile(sgd(lr = 0.1, decay = 1e-4, momentum = 0.8), \"mse\")\n",
    "        self.model = model\n",
    "\n",
    "        self.second_model = copy.deepcopy(self.model)\n",
    "        self.second_model.compile(sgd(lr = 0.1, decay = 1e-4, momentum = 0.8), \"mse\")\n",
    "        self.second_model.set_weights(self.model.get_weights())\n"
   ]
  },
  {
   "cell_type": "code",
   "execution_count": 53,
   "metadata": {},
   "outputs": [
    {
     "name": "stdout",
     "output_type": "stream",
     "text": [
      "Epoch 000/002 | Loss 0.0448 | Win/lose count 6.5/51.80000000000041 (-45.30000000000041)\n"
     ]
    },
    {
     "ename": "KeyboardInterrupt",
     "evalue": "",
     "output_type": "error",
     "traceback": [
      "\u001b[0;31m---------------------------------------------------------------------------\u001b[0m",
      "\u001b[0;31mKeyboardInterrupt\u001b[0m                         Traceback (most recent call last)",
      "\u001b[0;32m<ipython-input-53-3a9b4cc00205>\u001b[0m in \u001b[0;36m<module>\u001b[0;34m\u001b[0m\n\u001b[1;32m      3\u001b[0m \u001b[0magent_explore\u001b[0m \u001b[0;34m=\u001b[0m \u001b[0mDouble_DQN_CNN\u001b[0m\u001b[0;34m(\u001b[0m\u001b[0msize\u001b[0m\u001b[0;34m,\u001b[0m \u001b[0mlr\u001b[0m\u001b[0;34m=\u001b[0m\u001b[0;36m0.1\u001b[0m\u001b[0;34m,\u001b[0m \u001b[0mepsilon\u001b[0m \u001b[0;34m=\u001b[0m \u001b[0;36m0.4\u001b[0m\u001b[0;34m,\u001b[0m \u001b[0mmemory_size\u001b[0m \u001b[0;34m=\u001b[0m \u001b[0;36m20000\u001b[0m\u001b[0;34m,\u001b[0m \u001b[0mbatch_size\u001b[0m \u001b[0;34m=\u001b[0m \u001b[0;36m64\u001b[0m\u001b[0;34m,\u001b[0m \u001b[0mn_state\u001b[0m \u001b[0;34m=\u001b[0m \u001b[0;36m3\u001b[0m\u001b[0;34m)\u001b[0m\u001b[0;34m\u001b[0m\u001b[0;34m\u001b[0m\u001b[0m\n\u001b[1;32m      4\u001b[0m \u001b[0;31m# Training\u001b[0m\u001b[0;34m\u001b[0m\u001b[0;34m\u001b[0m\u001b[0;34m\u001b[0m\u001b[0m\n\u001b[0;32m----> 5\u001b[0;31m \u001b[0mtrain_explore\u001b[0m\u001b[0;34m(\u001b[0m\u001b[0magent_explore\u001b[0m\u001b[0;34m,\u001b[0m \u001b[0menv_explore\u001b[0m\u001b[0;34m,\u001b[0m \u001b[0;36m2\u001b[0m\u001b[0;34m,\u001b[0m \u001b[0mprefix\u001b[0m\u001b[0;34m=\u001b[0m\u001b[0;34m'cnn_train_explore_'\u001b[0m\u001b[0;34m)\u001b[0m\u001b[0;34m\u001b[0m\u001b[0;34m\u001b[0m\u001b[0m\n\u001b[0m",
      "\u001b[0;32m<ipython-input-40-5bda5b007eca>\u001b[0m in \u001b[0;36mtrain_explore\u001b[0;34m(agent, env, epoch, prefix, epsilon_0)\u001b[0m\n\u001b[1;32m     30\u001b[0m \u001b[0;34m\u001b[0m\u001b[0m\n\u001b[1;32m     31\u001b[0m             \u001b[0;31m# Execute the reinforcement learning strategy\u001b[0m\u001b[0;34m\u001b[0m\u001b[0;34m\u001b[0m\u001b[0;34m\u001b[0m\u001b[0m\n\u001b[0;32m---> 32\u001b[0;31m             \u001b[0mloss\u001b[0m \u001b[0;34m=\u001b[0m \u001b[0magent\u001b[0m\u001b[0;34m.\u001b[0m\u001b[0mreinforce\u001b[0m\u001b[0;34m(\u001b[0m\u001b[0mcurrent_state\u001b[0m\u001b[0;34m,\u001b[0m \u001b[0mnext_state\u001b[0m\u001b[0;34m,\u001b[0m \u001b[0maction\u001b[0m\u001b[0;34m,\u001b[0m \u001b[0mreward\u001b[0m\u001b[0;34m,\u001b[0m \u001b[0mgame_over\u001b[0m\u001b[0;34m)\u001b[0m\u001b[0;34m\u001b[0m\u001b[0;34m\u001b[0m\u001b[0m\n\u001b[0m\u001b[1;32m     33\u001b[0m \u001b[0;34m\u001b[0m\u001b[0m\n\u001b[1;32m     34\u001b[0m         \u001b[0;31m# Save as a mp4\u001b[0m\u001b[0;34m\u001b[0m\u001b[0;34m\u001b[0m\u001b[0;34m\u001b[0m\u001b[0m\n",
      "\u001b[0;32m<ipython-input-52-1ccbd3d826d3>\u001b[0m in \u001b[0;36mreinforce\u001b[0;34m(self, s_, n_s_, a_, r_, game_over_)\u001b[0m\n\u001b[1;32m     55\u001b[0m                 \u001b[0;32melse\u001b[0m\u001b[0;34m:\u001b[0m\u001b[0;34m\u001b[0m\u001b[0;34m\u001b[0m\u001b[0m\n\u001b[1;32m     56\u001b[0m                     \u001b[0mprediction2\u001b[0m \u001b[0;34m=\u001b[0m \u001b[0mself\u001b[0m\u001b[0;34m.\u001b[0m\u001b[0mmodel\u001b[0m\u001b[0;34m.\u001b[0m\u001b[0mpredict\u001b[0m\u001b[0;34m(\u001b[0m\u001b[0mnp\u001b[0m\u001b[0;34m.\u001b[0m\u001b[0marray\u001b[0m\u001b[0;34m(\u001b[0m\u001b[0;34m[\u001b[0m\u001b[0mn_s_batch\u001b[0m\u001b[0;34m]\u001b[0m\u001b[0;34m)\u001b[0m\u001b[0;34m)\u001b[0m\u001b[0;34m\u001b[0m\u001b[0;34m\u001b[0m\u001b[0m\n\u001b[0;32m---> 57\u001b[0;31m                     \u001b[0mprediction1\u001b[0m \u001b[0;34m=\u001b[0m \u001b[0mself\u001b[0m\u001b[0;34m.\u001b[0m\u001b[0msecond_model\u001b[0m\u001b[0;34m.\u001b[0m\u001b[0mpredict\u001b[0m\u001b[0;34m(\u001b[0m\u001b[0mnp\u001b[0m\u001b[0;34m.\u001b[0m\u001b[0marray\u001b[0m\u001b[0;34m(\u001b[0m\u001b[0;34m[\u001b[0m\u001b[0mn_s_batch\u001b[0m\u001b[0;34m]\u001b[0m\u001b[0;34m)\u001b[0m\u001b[0;34m)\u001b[0m\u001b[0;34m\u001b[0m\u001b[0;34m\u001b[0m\u001b[0m\n\u001b[0m\u001b[1;32m     58\u001b[0m \u001b[0;34m\u001b[0m\u001b[0m\n\u001b[1;32m     59\u001b[0m                 \u001b[0mtarget_q\u001b[0m\u001b[0;34m[\u001b[0m\u001b[0mi\u001b[0m\u001b[0;34m,\u001b[0m \u001b[0ma_batch\u001b[0m\u001b[0;34m]\u001b[0m \u001b[0;34m=\u001b[0m \u001b[0mr_batch\u001b[0m \u001b[0;34m+\u001b[0m \u001b[0mself\u001b[0m\u001b[0;34m.\u001b[0m\u001b[0mdiscount\u001b[0m \u001b[0;34m*\u001b[0m \u001b[0;34m(\u001b[0m\u001b[0mprediction2\u001b[0m\u001b[0;34m.\u001b[0m\u001b[0mravel\u001b[0m\u001b[0;34m(\u001b[0m\u001b[0;34m)\u001b[0m\u001b[0;34m)\u001b[0m\u001b[0;34m[\u001b[0m\u001b[0mnp\u001b[0m\u001b[0;34m.\u001b[0m\u001b[0margmax\u001b[0m\u001b[0;34m(\u001b[0m\u001b[0mprediction1\u001b[0m\u001b[0;34m)\u001b[0m\u001b[0;34m]\u001b[0m\u001b[0;34m\u001b[0m\u001b[0;34m\u001b[0m\u001b[0m\n",
      "\u001b[0;32m/usr/local/lib/python3.7/site-packages/keras/engine/training.py\u001b[0m in \u001b[0;36mpredict\u001b[0;34m(self, x, batch_size, verbose, steps)\u001b[0m\n\u001b[1;32m   1167\u001b[0m                                             \u001b[0mbatch_size\u001b[0m\u001b[0;34m=\u001b[0m\u001b[0mbatch_size\u001b[0m\u001b[0;34m,\u001b[0m\u001b[0;34m\u001b[0m\u001b[0;34m\u001b[0m\u001b[0m\n\u001b[1;32m   1168\u001b[0m                                             \u001b[0mverbose\u001b[0m\u001b[0;34m=\u001b[0m\u001b[0mverbose\u001b[0m\u001b[0;34m,\u001b[0m\u001b[0;34m\u001b[0m\u001b[0;34m\u001b[0m\u001b[0m\n\u001b[0;32m-> 1169\u001b[0;31m                                             steps=steps)\n\u001b[0m\u001b[1;32m   1170\u001b[0m \u001b[0;34m\u001b[0m\u001b[0m\n\u001b[1;32m   1171\u001b[0m     def train_on_batch(self, x, y,\n",
      "\u001b[0;32m/usr/local/lib/python3.7/site-packages/keras/engine/training_arrays.py\u001b[0m in \u001b[0;36mpredict_loop\u001b[0;34m(model, f, ins, batch_size, verbose, steps)\u001b[0m\n\u001b[1;32m    292\u001b[0m                 \u001b[0mins_batch\u001b[0m\u001b[0;34m[\u001b[0m\u001b[0mi\u001b[0m\u001b[0;34m]\u001b[0m \u001b[0;34m=\u001b[0m \u001b[0mins_batch\u001b[0m\u001b[0;34m[\u001b[0m\u001b[0mi\u001b[0m\u001b[0;34m]\u001b[0m\u001b[0;34m.\u001b[0m\u001b[0mtoarray\u001b[0m\u001b[0;34m(\u001b[0m\u001b[0;34m)\u001b[0m\u001b[0;34m\u001b[0m\u001b[0;34m\u001b[0m\u001b[0m\n\u001b[1;32m    293\u001b[0m \u001b[0;34m\u001b[0m\u001b[0m\n\u001b[0;32m--> 294\u001b[0;31m             \u001b[0mbatch_outs\u001b[0m \u001b[0;34m=\u001b[0m \u001b[0mf\u001b[0m\u001b[0;34m(\u001b[0m\u001b[0mins_batch\u001b[0m\u001b[0;34m)\u001b[0m\u001b[0;34m\u001b[0m\u001b[0;34m\u001b[0m\u001b[0m\n\u001b[0m\u001b[1;32m    295\u001b[0m             \u001b[0mbatch_outs\u001b[0m \u001b[0;34m=\u001b[0m \u001b[0mto_list\u001b[0m\u001b[0;34m(\u001b[0m\u001b[0mbatch_outs\u001b[0m\u001b[0;34m)\u001b[0m\u001b[0;34m\u001b[0m\u001b[0;34m\u001b[0m\u001b[0m\n\u001b[1;32m    296\u001b[0m             \u001b[0;32mif\u001b[0m \u001b[0mbatch_index\u001b[0m \u001b[0;34m==\u001b[0m \u001b[0;36m0\u001b[0m\u001b[0;34m:\u001b[0m\u001b[0;34m\u001b[0m\u001b[0;34m\u001b[0m\u001b[0m\n",
      "\u001b[0;32m/usr/local/lib/python3.7/site-packages/keras/backend/tensorflow_backend.py\u001b[0m in \u001b[0;36m__call__\u001b[0;34m(self, inputs)\u001b[0m\n\u001b[1;32m   2713\u001b[0m                 \u001b[0;32mreturn\u001b[0m \u001b[0mself\u001b[0m\u001b[0;34m.\u001b[0m\u001b[0m_legacy_call\u001b[0m\u001b[0;34m(\u001b[0m\u001b[0minputs\u001b[0m\u001b[0;34m)\u001b[0m\u001b[0;34m\u001b[0m\u001b[0;34m\u001b[0m\u001b[0m\n\u001b[1;32m   2714\u001b[0m \u001b[0;34m\u001b[0m\u001b[0m\n\u001b[0;32m-> 2715\u001b[0;31m             \u001b[0;32mreturn\u001b[0m \u001b[0mself\u001b[0m\u001b[0;34m.\u001b[0m\u001b[0m_call\u001b[0m\u001b[0;34m(\u001b[0m\u001b[0minputs\u001b[0m\u001b[0;34m)\u001b[0m\u001b[0;34m\u001b[0m\u001b[0;34m\u001b[0m\u001b[0m\n\u001b[0m\u001b[1;32m   2716\u001b[0m         \u001b[0;32melse\u001b[0m\u001b[0;34m:\u001b[0m\u001b[0;34m\u001b[0m\u001b[0;34m\u001b[0m\u001b[0m\n\u001b[1;32m   2717\u001b[0m             \u001b[0;32mif\u001b[0m \u001b[0mpy_any\u001b[0m\u001b[0;34m(\u001b[0m\u001b[0mis_tensor\u001b[0m\u001b[0;34m(\u001b[0m\u001b[0mx\u001b[0m\u001b[0;34m)\u001b[0m \u001b[0;32mfor\u001b[0m \u001b[0mx\u001b[0m \u001b[0;32min\u001b[0m \u001b[0minputs\u001b[0m\u001b[0;34m)\u001b[0m\u001b[0;34m:\u001b[0m\u001b[0;34m\u001b[0m\u001b[0;34m\u001b[0m\u001b[0m\n",
      "\u001b[0;32m/usr/local/lib/python3.7/site-packages/keras/backend/tensorflow_backend.py\u001b[0m in \u001b[0;36m_call\u001b[0;34m(self, inputs)\u001b[0m\n\u001b[1;32m   2673\u001b[0m             \u001b[0mfetched\u001b[0m \u001b[0;34m=\u001b[0m \u001b[0mself\u001b[0m\u001b[0;34m.\u001b[0m\u001b[0m_callable_fn\u001b[0m\u001b[0;34m(\u001b[0m\u001b[0;34m*\u001b[0m\u001b[0marray_vals\u001b[0m\u001b[0;34m,\u001b[0m \u001b[0mrun_metadata\u001b[0m\u001b[0;34m=\u001b[0m\u001b[0mself\u001b[0m\u001b[0;34m.\u001b[0m\u001b[0mrun_metadata\u001b[0m\u001b[0;34m)\u001b[0m\u001b[0;34m\u001b[0m\u001b[0;34m\u001b[0m\u001b[0m\n\u001b[1;32m   2674\u001b[0m         \u001b[0;32melse\u001b[0m\u001b[0;34m:\u001b[0m\u001b[0;34m\u001b[0m\u001b[0;34m\u001b[0m\u001b[0m\n\u001b[0;32m-> 2675\u001b[0;31m             \u001b[0mfetched\u001b[0m \u001b[0;34m=\u001b[0m \u001b[0mself\u001b[0m\u001b[0;34m.\u001b[0m\u001b[0m_callable_fn\u001b[0m\u001b[0;34m(\u001b[0m\u001b[0;34m*\u001b[0m\u001b[0marray_vals\u001b[0m\u001b[0;34m)\u001b[0m\u001b[0;34m\u001b[0m\u001b[0;34m\u001b[0m\u001b[0m\n\u001b[0m\u001b[1;32m   2676\u001b[0m         \u001b[0;32mreturn\u001b[0m \u001b[0mfetched\u001b[0m\u001b[0;34m[\u001b[0m\u001b[0;34m:\u001b[0m\u001b[0mlen\u001b[0m\u001b[0;34m(\u001b[0m\u001b[0mself\u001b[0m\u001b[0;34m.\u001b[0m\u001b[0moutputs\u001b[0m\u001b[0;34m)\u001b[0m\u001b[0;34m]\u001b[0m\u001b[0;34m\u001b[0m\u001b[0;34m\u001b[0m\u001b[0m\n\u001b[1;32m   2677\u001b[0m \u001b[0;34m\u001b[0m\u001b[0m\n",
      "\u001b[0;32m/usr/local/lib/python3.7/site-packages/tensorflow/python/client/session.py\u001b[0m in \u001b[0;36m__call__\u001b[0;34m(self, *args, **kwargs)\u001b[0m\n\u001b[1;32m   1437\u001b[0m           ret = tf_session.TF_SessionRunCallable(\n\u001b[1;32m   1438\u001b[0m               \u001b[0mself\u001b[0m\u001b[0;34m.\u001b[0m\u001b[0m_session\u001b[0m\u001b[0;34m.\u001b[0m\u001b[0m_session\u001b[0m\u001b[0;34m,\u001b[0m \u001b[0mself\u001b[0m\u001b[0;34m.\u001b[0m\u001b[0m_handle\u001b[0m\u001b[0;34m,\u001b[0m \u001b[0margs\u001b[0m\u001b[0;34m,\u001b[0m \u001b[0mstatus\u001b[0m\u001b[0;34m,\u001b[0m\u001b[0;34m\u001b[0m\u001b[0;34m\u001b[0m\u001b[0m\n\u001b[0;32m-> 1439\u001b[0;31m               run_metadata_ptr)\n\u001b[0m\u001b[1;32m   1440\u001b[0m         \u001b[0;32mif\u001b[0m \u001b[0mrun_metadata\u001b[0m\u001b[0;34m:\u001b[0m\u001b[0;34m\u001b[0m\u001b[0;34m\u001b[0m\u001b[0m\n\u001b[1;32m   1441\u001b[0m           \u001b[0mproto_data\u001b[0m \u001b[0;34m=\u001b[0m \u001b[0mtf_session\u001b[0m\u001b[0;34m.\u001b[0m\u001b[0mTF_GetBuffer\u001b[0m\u001b[0;34m(\u001b[0m\u001b[0mrun_metadata_ptr\u001b[0m\u001b[0;34m)\u001b[0m\u001b[0;34m\u001b[0m\u001b[0;34m\u001b[0m\u001b[0m\n",
      "\u001b[0;31mKeyboardInterrupt\u001b[0m: "
     ]
    }
   ],
   "source": [
    "# Instanciate the Agent and the Environment\n",
    "env_explore = EnvironmentExploring(grid_size=size, max_time=T, temperature=0.3)\n",
    "agent_explore = Double_DQN_CNN(size, lr=0.1, epsilon = 0.4, memory_size = 20000, batch_size = 64, n_state = 3)\n",
    "# Training\n",
    "train_explore(agent_explore, env_explore, 2, prefix='cnn_train_explore_')"
   ]
  },
  {
   "cell_type": "markdown",
   "metadata": {},
   "source": [
    "<b>Careful!</b> I did not have time to compute an adequate number of epochs (80 ?) on the data. But I am confident the results will be what is expected."
   ]
  },
  {
   "cell_type": "code",
   "execution_count": null,
   "metadata": {},
   "outputs": [],
   "source": [
    "if movie_: HTML(display_videos('cnn_train_explore_0.mp4'))"
   ]
  },
  {
   "cell_type": "markdown",
   "metadata": {},
   "source": [
    "***"
   ]
  }
 ],
 "metadata": {
  "kernelspec": {
   "display_name": "Python 3",
   "language": "python",
   "name": "python3"
  },
  "language_info": {
   "codemirror_mode": {
    "name": "ipython",
    "version": 3
   },
   "file_extension": ".py",
   "mimetype": "text/x-python",
   "name": "python",
   "nbconvert_exporter": "python",
   "pygments_lexer": "ipython3",
   "version": "3.7.2"
  }
 },
 "nbformat": 4,
 "nbformat_minor": 2
}
